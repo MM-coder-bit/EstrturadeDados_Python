{
 "cells": [
  {
   "cell_type": "markdown",
   "metadata": {},
   "source": [
    "### Imagem para teste\n",
    "<img src=\"imagens\\imagem para o grafo.png\" width=\"600\" height=\"400\">"
   ]
  },
  {
   "cell_type": "code",
   "execution_count": 14,
   "metadata": {},
   "outputs": [],
   "source": [
    "class Vertice:\n",
    "    def __init__(self, rotulo):\n",
    "        # Método construtor - é chamado ao criar um objeto da classe Vertice\n",
    "        self.rotulo = rotulo  # Atributo para armazenar o rótulo (identificador) do vértice\n",
    "        self.visitado = False  # Atributo para indicar se o vértice foi visitado (inicializado como False)\n",
    "        self.adjacentes = []  # Lista para armazenar os vértices adjacentes\n",
    "\n",
    "    def adiciona_adjacente(self, adjacente):\n",
    "        # Método para adicionar um vértice adjacente à lista de adjacentes\n",
    "        self.adjacentes.append(adjacente)\n",
    "\n",
    "    def mostra_adjacentes(self):\n",
    "        # Método para mostrar os vértices adjacentes e seus custos\n",
    "        for adjacente in self.adjacentes:\n",
    "            # Itera sobre a lista de vértices adjacentes\n",
    "            # Imprime o rótulo do vértice adjacente e seu custo\n",
    "            print(adjacente.vertice.rotulo, adjacente.custo)\n"
   ]
  },
  {
   "cell_type": "code",
   "execution_count": 15,
   "metadata": {},
   "outputs": [],
   "source": [
    "class Adjacente:\n",
    "    def __init__(self, vertice, custo):\n",
    "        # Método construtor para a classe Adjacente\n",
    "        self.vertice = vertice  # Vértice adjacente\n",
    "        self.custo = custo  # Custo associado ao caminho até o vértice adjacente"
   ]
  },
  {
   "cell_type": "code",
   "execution_count": 16,
   "metadata": {},
   "outputs": [],
   "source": [
    "class Grafo:\n",
    "    # Criando instâncias da classe Vertice para representar os vértices do grafo\n",
    "    arad = Vertice('Arad')\n",
    "    zerind = Vertice('Zerind')\n",
    "    oradea = Vertice('Oradea')\n",
    "    sibiu = Vertice('Sibiu')\n",
    "    timisoara = Vertice('Timisoara')\n",
    "    lugoj = Vertice('Lugoj')\n",
    "    mehadia = Vertice('Mehadia')\n",
    "    dobreta = Vertice('Dobreta')\n",
    "    craiova = Vertice('Craiova')\n",
    "    rimnicu = Vertice('Rimnicu')\n",
    "    fagaras = Vertice('Fagaras')\n",
    "    pitesti = Vertice('Pitesti')\n",
    "    bucharest = Vertice('Bucharest')\n",
    "    giurgiu = Vertice('Giurgiu')\n",
    "\n",
    "    # Adicionando vértices adjacentes para cada cidade com os respectivas distâncias\n",
    "    arad.adiciona_adjacente(Adjacente(zerind, 75))\n",
    "    arad.adiciona_adjacente(Adjacente(sibiu, 140))\n",
    "    arad.adiciona_adjacente(Adjacente(timisoara, 118))\n",
    "\n",
    "    zerind.adiciona_adjacente(Adjacente(arad, 75))\n",
    "    zerind.adiciona_adjacente(Adjacente(oradea, 71))\n",
    "\n",
    "    oradea.adiciona_adjacente(Adjacente(zerind, 71))\n",
    "    oradea.adiciona_adjacente(Adjacente(sibiu, 151))\n",
    "\n",
    "    sibiu.adiciona_adjacente(Adjacente(oradea, 151))\n",
    "    sibiu.adiciona_adjacente(Adjacente(arad, 140))\n",
    "    sibiu.adiciona_adjacente(Adjacente(fagaras, 99))\n",
    "    sibiu.adiciona_adjacente(Adjacente(rimnicu, 80))\n",
    "\n",
    "    timisoara.adiciona_adjacente(Adjacente(arad, 118))\n",
    "    timisoara.adiciona_adjacente(Adjacente(lugoj, 111))\n",
    "\n",
    "    lugoj.adiciona_adjacente(Adjacente(timisoara, 111))\n",
    "    lugoj.adiciona_adjacente(Adjacente(mehadia, 70))\n",
    "\n",
    "    mehadia.adiciona_adjacente(Adjacente(lugoj, 70))\n",
    "    mehadia.adiciona_adjacente(Adjacente(dobreta, 75))\n",
    "\n",
    "    dobreta.adiciona_adjacente(Adjacente(mehadia, 75))\n",
    "    dobreta.adiciona_adjacente(Adjacente(craiova, 120))\n",
    "\n",
    "    craiova.adiciona_adjacente(Adjacente(dobreta, 120))\n",
    "    craiova.adiciona_adjacente(Adjacente(pitesti, 138))\n",
    "    craiova.adiciona_adjacente(Adjacente(rimnicu, 146))\n",
    "\n",
    "    rimnicu.adiciona_adjacente(Adjacente(craiova, 146))\n",
    "    rimnicu.adiciona_adjacente(Adjacente(sibiu, 80))\n",
    "    rimnicu.adiciona_adjacente(Adjacente(pitesti, 97))\n",
    "\n",
    "    fagaras.adiciona_adjacente(Adjacente(sibiu, 99))\n",
    "    fagaras.adiciona_adjacente(Adjacente(bucharest, 211))\n",
    "\n",
    "    pitesti.adiciona_adjacente(Adjacente(rimnicu, 97))\n",
    "    pitesti.adiciona_adjacente(Adjacente(craiova, 138))\n",
    "    pitesti.adiciona_adjacente(Adjacente(bucharest, 101))\n",
    "\n",
    "    bucharest.adiciona_adjacente(Adjacente(fagaras, 211))\n",
    "    bucharest.adiciona_adjacente(Adjacente(pitesti, 101))\n",
    "    bucharest.adiciona_adjacente(Adjacente(giurgiu, 90))\n"
   ]
  },
  {
   "cell_type": "code",
   "execution_count": 17,
   "metadata": {},
   "outputs": [
    {
     "name": "stdout",
     "output_type": "stream",
     "text": [
      "Adjacentes de Arad:\n",
      "Zerind 75\n",
      "Sibiu 140\n",
      "Timisoara 118\n",
      "\n",
      "Adjacentes de Bucharest:\n",
      "Fagaras 211\n",
      "Pitesti 101\n",
      "Giurgiu 90\n"
     ]
    }
   ],
   "source": [
    "grafo = Grafo()\n",
    "\n",
    "# Mostrando os vértices adjacentes da cidade Arad\n",
    "print(\"Adjacentes de Arad:\")\n",
    "grafo.arad.mostra_adjacentes()\n",
    "\n",
    "# Mostrando os vértices adjacentes da cidade Bucharest\n",
    "print(\"\\nAdjacentes de Bucharest:\")\n",
    "grafo.bucharest.mostra_adjacentes()"
   ]
  },
  {
   "cell_type": "markdown",
   "metadata": {},
   "source": [
    "# Pilha"
   ]
  },
  {
   "cell_type": "code",
   "execution_count": 18,
   "metadata": {},
   "outputs": [],
   "source": [
    "import numpy as np\n",
    "\n",
    "class Pilha:\n",
    "    def __init__(self, capacidade):\n",
    "        # Método construtor - inicializa a pilha com uma capacidade específica\n",
    "        self.__capacidade = capacidade\n",
    "        self.__topo = -1  # Inicializa o topo como -1, indicando que a pilha está vazia\n",
    "\n",
    "        # Mudança do tipo do array para aceitar qualquer tipo de objeto\n",
    "        self.__valores = np.empty(self.__capacidade, dtype=object)\n",
    "\n",
    "    def __pilha_cheia(self):\n",
    "        # Método privado para verificar se a pilha está cheia\n",
    "        return self.__topo == self.__capacidade - 1\n",
    "\n",
    "    def __pilha_vazia(self):\n",
    "        # Método privado para verificar se a pilha está vazia\n",
    "        return self.__topo == -1\n",
    "\n",
    "    def empilhar(self, valor):\n",
    "        # Método público para empilhar um valor na pilha\n",
    "        if self.__pilha_cheia():\n",
    "            print('A pilha está cheia')\n",
    "        else:\n",
    "            self.__topo += 1\n",
    "            self.__valores[self.__topo] = valor\n",
    "\n",
    "    def desempilhar(self):\n",
    "        # Método público para desempilhar um valor da pilha\n",
    "        if self.__pilha_vazia():\n",
    "            print('A pilha está vazia')\n",
    "            return None\n",
    "        else:\n",
    "            temp = self.__valores[self.__topo]\n",
    "            self.__topo -= 1\n",
    "            return temp\n",
    "\n",
    "    def ver_topo(self):\n",
    "        # Método público para verificar o valor no topo da pilha\n",
    "        if self.__topo != -1:\n",
    "            return self.__valores[self.__topo]\n",
    "        else:\n",
    "            return -1  # Retorna -1 se a pilha estiver vazia\n"
   ]
  },
  {
   "cell_type": "code",
   "execution_count": 19,
   "metadata": {},
   "outputs": [],
   "source": [
    "# Criando uma instância da classe Pilha com capacidade 5\n",
    "pilha = Pilha(5)\n",
    "\n",
    "# Empilhando alguns vértices do grafo na pilha\n",
    "pilha.empilhar(grafo.arad)      # Empilha o vértice 'Arad'\n",
    "pilha.empilhar(grafo.sibiu)     # Empilha o vértice 'Sibiu'\n",
    "pilha.empilhar(grafo.timisoara) # Empilha o vértice 'Timisoara'\n"
   ]
  },
  {
   "cell_type": "code",
   "execution_count": 20,
   "metadata": {},
   "outputs": [
    {
     "name": "stdout",
     "output_type": "stream",
     "text": [
      "Timisoara\n",
      "Timisoara\n",
      "Arad\n"
     ]
    }
   ],
   "source": [
    "# Imprime o rótulo do vértice no topo da pilha\n",
    "print(pilha.ver_topo().rotulo)\n",
    "\n",
    "# Desempilha o vértice do topo e imprime seu rótulo\n",
    "print(pilha.desempilhar().rotulo)\n",
    "\n",
    "# Tentativa de desempilhar novamente (a pilha já está vazia, então imprime mensagem de aviso)\n",
    "pilha.desempilhar()\n",
    "\n",
    "# Tentativa de acessar o rótulo do vértice no topo da pilha (a pilha está vazia, retorna -1)\n",
    "print(pilha.ver_topo().rotulo)\n"
   ]
  },
  {
   "cell_type": "markdown",
   "metadata": {},
   "source": [
    "# Busca em profundidade"
   ]
  },
  {
   "cell_type": "code",
   "execution_count": 21,
   "metadata": {},
   "outputs": [],
   "source": [
    "class BuscaProfundidade:\n",
    "    def __init__(self, inicio):\n",
    "        # Método construtor - inicializa a busca de profundidade com o vértice de início\n",
    "        self.inicio = inicio\n",
    "        self.inicio.visitado = True  # Marca o vértice de início como visitado\n",
    "        self.pilha = Pilha(20)  # Cria uma pilha com capacidade 20\n",
    "        self.pilha.empilhar(inicio)  # Empilha o vértice de início\n",
    "\n",
    "    def buscar(self):\n",
    "        # Método para realizar a busca de profundidade recursiva\n",
    "        topo = self.pilha.ver_topo()\n",
    "        print('Topo: {}'.format(topo.rotulo))\n",
    "        \n",
    "        # Itera sobre os vértices adjacentes ao topo da pilha\n",
    "        for adjacente in topo.adjacentes:\n",
    "            print('Topo é {}. {} já foi visitada? {}'.format(topo.rotulo, adjacente.vertice.rotulo, adjacente.vertice.visitado))\n",
    "            \n",
    "            # Se o vértice adjacente ainda não foi visitado, marca como visitado e empilha\n",
    "            if adjacente.vertice.visitado == False:\n",
    "                adjacente.vertice.visitado = True\n",
    "                self.pilha.empilhar(adjacente.vertice)\n",
    "                print('Empilhou {}'.format(adjacente.vertice.rotulo))\n",
    "                self.buscar()  # Chamada recursiva para continuar a busca a partir do vértice adjacente\n",
    "\n",
    "        # Quando todos os adjacentes foram visitados, desempilha o topo\n",
    "        print('Desempilhou: {}'.format(self.pilha.desempilhar().rotulo))\n",
    "        print()\n"
   ]
  },
  {
   "cell_type": "code",
   "execution_count": 22,
   "metadata": {},
   "outputs": [
    {
     "name": "stdout",
     "output_type": "stream",
     "text": [
      "Topo: Arad\n",
      "Topo é Arad. Zerind já foi visitada? False\n",
      "Empilhou Zerind\n",
      "Topo: Zerind\n",
      "Topo é Zerind. Arad já foi visitada? True\n",
      "Topo é Zerind. Oradea já foi visitada? False\n",
      "Empilhou Oradea\n",
      "Topo: Oradea\n",
      "Topo é Oradea. Zerind já foi visitada? True\n",
      "Topo é Oradea. Sibiu já foi visitada? False\n",
      "Empilhou Sibiu\n",
      "Topo: Sibiu\n",
      "Topo é Sibiu. Oradea já foi visitada? True\n",
      "Topo é Sibiu. Arad já foi visitada? True\n",
      "Topo é Sibiu. Fagaras já foi visitada? False\n",
      "Empilhou Fagaras\n",
      "Topo: Fagaras\n",
      "Topo é Fagaras. Sibiu já foi visitada? True\n",
      "Topo é Fagaras. Bucharest já foi visitada? False\n",
      "Empilhou Bucharest\n",
      "Topo: Bucharest\n",
      "Topo é Bucharest. Fagaras já foi visitada? True\n",
      "Topo é Bucharest. Pitesti já foi visitada? False\n",
      "Empilhou Pitesti\n",
      "Topo: Pitesti\n",
      "Topo é Pitesti. Rimnicu já foi visitada? False\n",
      "Empilhou Rimnicu\n",
      "Topo: Rimnicu\n",
      "Topo é Rimnicu. Craiova já foi visitada? False\n",
      "Empilhou Craiova\n",
      "Topo: Craiova\n",
      "Topo é Craiova. Dobreta já foi visitada? False\n",
      "Empilhou Dobreta\n",
      "Topo: Dobreta\n",
      "Topo é Dobreta. Mehadia já foi visitada? False\n",
      "Empilhou Mehadia\n",
      "Topo: Mehadia\n",
      "Topo é Mehadia. Lugoj já foi visitada? False\n",
      "Empilhou Lugoj\n",
      "Topo: Lugoj\n",
      "Topo é Lugoj. Timisoara já foi visitada? False\n",
      "Empilhou Timisoara\n",
      "Topo: Timisoara\n",
      "Topo é Timisoara. Arad já foi visitada? True\n",
      "Topo é Timisoara. Lugoj já foi visitada? True\n",
      "Desempilhou: Timisoara\n",
      "\n",
      "Topo é Lugoj. Mehadia já foi visitada? True\n",
      "Desempilhou: Lugoj\n",
      "\n",
      "Topo é Mehadia. Dobreta já foi visitada? True\n",
      "Desempilhou: Mehadia\n",
      "\n",
      "Topo é Dobreta. Craiova já foi visitada? True\n",
      "Desempilhou: Dobreta\n",
      "\n",
      "Topo é Craiova. Pitesti já foi visitada? True\n",
      "Topo é Craiova. Rimnicu já foi visitada? True\n",
      "Desempilhou: Craiova\n",
      "\n",
      "Topo é Rimnicu. Sibiu já foi visitada? True\n",
      "Topo é Rimnicu. Pitesti já foi visitada? True\n",
      "Desempilhou: Rimnicu\n",
      "\n",
      "Topo é Pitesti. Craiova já foi visitada? True\n",
      "Topo é Pitesti. Bucharest já foi visitada? True\n",
      "Desempilhou: Pitesti\n",
      "\n",
      "Topo é Bucharest. Giurgiu já foi visitada? False\n",
      "Empilhou Giurgiu\n",
      "Topo: Giurgiu\n",
      "Desempilhou: Giurgiu\n",
      "\n",
      "Desempilhou: Bucharest\n",
      "\n",
      "Desempilhou: Fagaras\n",
      "\n",
      "Topo é Sibiu. Rimnicu já foi visitada? True\n",
      "Desempilhou: Sibiu\n",
      "\n",
      "Desempilhou: Oradea\n",
      "\n",
      "Desempilhou: Zerind\n",
      "\n",
      "Topo é Arad. Sibiu já foi visitada? True\n",
      "Topo é Arad. Timisoara já foi visitada? True\n",
      "Desempilhou: Arad\n",
      "\n"
     ]
    }
   ],
   "source": [
    "# Criando uma instância da classe BuscaProfundidade com o vértice 'Arad' como ponto de partida\n",
    "busca_profundidade = BuscaProfundidade(grafo.arad)\n",
    "\n",
    "# Iniciando a busca em profundidade a partir do vértice 'Arad'\n",
    "busca_profundidade.buscar()\n"
   ]
  },
  {
   "cell_type": "code",
   "execution_count": 26,
   "metadata": {},
   "outputs": [
    {
     "name": "stdout",
     "output_type": "stream",
     "text": [
      "----- Validando que não nada na pilha\n"
     ]
    },
    {
     "data": {
      "text/plain": [
       "-1"
      ]
     },
     "execution_count": 26,
     "metadata": {},
     "output_type": "execute_result"
    }
   ],
   "source": [
    "print(5 * '-', 'Validando que não nada na pilha')\n",
    "busca_profundidade.pilha.ver_topo()"
   ]
  }
 ],
 "metadata": {
  "kernelspec": {
   "display_name": "Python 3",
   "language": "python",
   "name": "python3"
  },
  "language_info": {
   "codemirror_mode": {
    "name": "ipython",
    "version": 3
   },
   "file_extension": ".py",
   "mimetype": "text/x-python",
   "name": "python",
   "nbconvert_exporter": "python",
   "pygments_lexer": "ipython3",
   "version": "3.9.10"
  }
 },
 "nbformat": 4,
 "nbformat_minor": 2
}
