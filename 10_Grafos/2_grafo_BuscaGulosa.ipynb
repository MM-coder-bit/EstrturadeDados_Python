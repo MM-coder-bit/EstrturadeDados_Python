{
 "cells": [
  {
   "cell_type": "code",
   "execution_count": 1,
   "metadata": {},
   "outputs": [],
   "source": [
    "import numpy as np"
   ]
  },
  {
   "cell_type": "code",
   "execution_count": 2,
   "metadata": {},
   "outputs": [],
   "source": [
    "class Vertice:\n",
    "\n",
    "  # O método __init__ é chamado quando um objeto da classe é criado.\n",
    "  def __init__(self, rotulo, distancia_objetivo):\n",
    "    # Atributos do vértice\n",
    "    self.rotulo = rotulo  # Rótulo identificando o vértice\n",
    "    self.visitado = False  # Flag para indicar se o vértice foi visitado em alguma busca\n",
    "    self.distancia_objetivo = distancia_objetivo  # Distância do vértice ao objetivo\n",
    "    self.adjacentes = []  # Lista de vértices adjacentes a este vértice\n",
    "\n",
    "  # Método para adicionar um vértice adjacente a este vértice\n",
    "  def adiciona_adjacente(self, adjacente):\n",
    "    self.adjacentes.append(adjacente)\n",
    "\n",
    "  # Método para mostrar os vértices adjacentes e seus custos\n",
    "  def mostra_adjacentes(self):\n",
    "    for i in self.adjacentes:\n",
    "      print(i.vertice.rotulo, i.custo)\n"
   ]
  },
  {
   "cell_type": "code",
   "execution_count": 3,
   "metadata": {},
   "outputs": [],
   "source": [
    "class Adjacente:\n",
    "  # O método __init__ é chamado quando um objeto da classe é criado.\n",
    "  def __init__(self, vertice, custo):\n",
    "    # Atributos da aresta entre dois vértices\n",
    "    self.vertice = vertice  # Vértice adjacente\n",
    "    self.custo = custo  # Custo associado à aresta entre os vértices"
   ]
  },
  {
   "cell_type": "markdown",
   "metadata": {},
   "source": [
    "### Distância das cidades apartir de Bucharest\n",
    "<img src=\"imagens\\distânciaBucharestGulosa.png\" width=\"1000\" height=\"400\">"
   ]
  },
  {
   "cell_type": "markdown",
   "metadata": {},
   "source": []
  },
  {
   "cell_type": "code",
   "execution_count": 4,
   "metadata": {},
   "outputs": [],
   "source": [
    "class Grafo:\n",
    "  # Instâncias da classe Vertice representando os vértices do grafo\n",
    "  # os dados representam a distâncias em linha reta da cidade de Bucharest\n",
    "  arad = Vertice('Arad', 366)\n",
    "  zerind = Vertice('Zerind', 374)\n",
    "  oradea = Vertice('Oradea', 380)\n",
    "  sibiu = Vertice('Sibiu', 253)\n",
    "  timisoara = Vertice('Timisoara', 329)\n",
    "  lugoj = Vertice('Lugoj', 244)\n",
    "  mehadia = Vertice('Mehadia', 241)\n",
    "  dobreta = Vertice('Dobreta', 242)\n",
    "  craiova = Vertice('Craiova', 160)\n",
    "  rimnicu = Vertice('Rimnicu', 193)\n",
    "  fagaras = Vertice('Fagaras', 178)\n",
    "  pitesti = Vertice('Pitesti', 98)\n",
    "  bucharest = Vertice('Bucharest', 0)\n",
    "  giurgiu = Vertice('Giurgiu', 77)\n",
    "\n",
    "  # Adicionando vértices adjacentes e custos para cada vértice\n",
    "  arad.adiciona_adjacente(Adjacente(zerind, 75))\n",
    "  arad.adiciona_adjacente(Adjacente(sibiu, 140))\n",
    "  arad.adiciona_adjacente(Adjacente(timisoara, 118))\n",
    "\n",
    "  zerind.adiciona_adjacente(Adjacente(arad, 75))\n",
    "  zerind.adiciona_adjacente(Adjacente(oradea, 71))\n",
    "\n",
    "  oradea.adiciona_adjacente(Adjacente(zerind, 71))\n",
    "  oradea.adiciona_adjacente(Adjacente(sibiu, 151))\n",
    "\n",
    "  sibiu.adiciona_adjacente(Adjacente(oradea, 151))\n",
    "  sibiu.adiciona_adjacente(Adjacente(arad, 140))\n",
    "  sibiu.adiciona_adjacente(Adjacente(fagaras, 99))\n",
    "  sibiu.adiciona_adjacente(Adjacente(rimnicu, 80))\n",
    "\n",
    "  timisoara.adiciona_adjacente(Adjacente(arad, 118))\n",
    "  timisoara.adiciona_adjacente(Adjacente(lugoj, 111))\n",
    "\n",
    "  lugoj.adiciona_adjacente(Adjacente(timisoara, 111))\n",
    "  lugoj.adiciona_adjacente(Adjacente(mehadia, 70))\n",
    "\n",
    "  mehadia.adiciona_adjacente(Adjacente(lugoj, 70))\n",
    "  mehadia.adiciona_adjacente(Adjacente(dobreta, 75))\n",
    "\n",
    "  dobreta.adiciona_adjacente(Adjacente(mehadia, 75))\n",
    "  dobreta.adiciona_adjacente(Adjacente(craiova, 120))\n",
    "\n",
    "  craiova.adiciona_adjacente(Adjacente(dobreta, 120))\n",
    "  craiova.adiciona_adjacente(Adjacente(pitesti, 138))\n",
    "  craiova.adiciona_adjacente(Adjacente(rimnicu, 146))\n",
    "\n",
    "  rimnicu.adiciona_adjacente(Adjacente(craiova, 146))\n",
    "  rimnicu.adiciona_adjacente(Adjacente(sibiu, 80))\n",
    "  rimnicu.adiciona_adjacente(Adjacente(pitesti, 97))\n",
    "\n",
    "  fagaras.adiciona_adjacente(Adjacente(sibiu, 99))\n",
    "  fagaras.adiciona_adjacente(Adjacente(bucharest, 211))\n",
    "\n",
    "  pitesti.adiciona_adjacente(Adjacente(rimnicu, 97))\n",
    "  pitesti.adiciona_adjacente(Adjacente(craiova, 138))\n",
    "  pitesti.adiciona_adjacente(Adjacente(bucharest, 101))\n",
    "\n",
    "  bucharest.adiciona_adjacente(Adjacente(fagaras, 211))\n",
    "  bucharest.adiciona_adjacente(Adjacente(pitesti, 101))\n",
    "  bucharest.adiciona_adjacente(Adjacente(giurgiu, 90))\n"
   ]
  },
  {
   "cell_type": "code",
   "execution_count": 5,
   "metadata": {},
   "outputs": [],
   "source": [
    "class VetorOrdenado:\n",
    "\n",
    "    # O método __init__ é chamado quando um objeto da classe é criado.\n",
    "    def __init__(self, capacidade):\n",
    "        self.capacidade = capacidade  # Capacidade máxima do vetor\n",
    "        self.ultima_posicao = -1  # Índice da última posição ocupada no vetor\n",
    "        # Mudança no tipo de dados: agora utiliza um array NumPy de objetos\n",
    "        self.valores = np.empty(self.capacidade, dtype=object)\n",
    "\n",
    "    # Método para inserir um vértice no vetor mantendo a ordem de distância para o objetivo\n",
    "    def insere(self, vertice):\n",
    "        # Verifica se a capacidade máxima foi atingida\n",
    "        if self.ultima_posicao == self.capacidade - 1:\n",
    "            print('Capacidade máxima atingida')\n",
    "            return\n",
    "        posicao = 0\n",
    "        # Encontra a posição correta para inserir o vértice mantendo a ordem\n",
    "        for i in range(self.ultima_posicao + 1):\n",
    "            posicao = i\n",
    "            if self.valores[i].distancia_objetivo > vertice.distancia_objetivo:\n",
    "                break\n",
    "            if i == self.ultima_posicao:\n",
    "                posicao = i + 1\n",
    "        x = self.ultima_posicao\n",
    "        # Desloca os elementos para abrir espaço para o novo vértice\n",
    "        while x >= posicao:\n",
    "            self.valores[x + 1] = self.valores[x]\n",
    "            x -= 1\n",
    "        # Insere o vértice na posição correta\n",
    "        self.valores[posicao] = vertice\n",
    "        self.ultima_posicao += 1\n",
    "\n",
    "    # Método para imprimir os elementos do vetor\n",
    "    def imprime(self):\n",
    "        # Verifica se o vetor está vazio\n",
    "        if self.ultima_posicao == -1:\n",
    "            print('O vetor está vazio')\n",
    "        else:\n",
    "            for i in range(self.ultima_posicao + 1):\n",
    "                # Imprime o índice, o rótulo e a distância para o objetivo de cada vértice\n",
    "                print(i, ' - ', self.valores[i].rotulo, ' - ', self.valores[i].distancia_objetivo)\n"
   ]
  },
  {
   "cell_type": "code",
   "execution_count": 6,
   "metadata": {},
   "outputs": [
    {
     "name": "stdout",
     "output_type": "stream",
     "text": [
      "0  -  Bucharest  -  0\n",
      "1  -  Craiova  -  160\n",
      "2  -  Dobreta  -  242\n",
      "3  -  Lugoj  -  244\n",
      "4  -  Arad  -  366\n"
     ]
    }
   ],
   "source": [
    "# Verificando se o vetor esta ordenando baseado nos daddos da distância\n",
    "v = VetorOrdenado(5)\n",
    "v.insere(Grafo.arad)\n",
    "v.insere(Grafo.craiova)\n",
    "v.insere(Grafo.bucharest)\n",
    "v.insere(Grafo.dobreta)\n",
    "v.insere(Grafo.lugoj)\n",
    "v.imprime()"
   ]
  },
  {
   "cell_type": "code",
   "execution_count": 7,
   "metadata": {},
   "outputs": [],
   "source": [
    "class Gulosa:\n",
    "  # O método __init__ é chamado quando um objeto da classe é criado.\n",
    "  def __init__(self, objetivo):\n",
    "    self.objetivo = objetivo  # Vértice que é o objetivo da busca\n",
    "    self.encontrado = False  # Flag para indicar se o objetivo foi encontrado\n",
    "\n",
    "  # Método para realizar a busca gulosa a partir de um vértice atual\n",
    "  def buscar(self, atual):\n",
    "    print('-------')\n",
    "    print('Atual: {}'.format(atual.rotulo))\n",
    "    atual.visitado = True  # Marca o vértice atual como visitado\n",
    "\n",
    "    # Verifica se o vértice atual é o objetivo\n",
    "    if atual == self.objetivo:\n",
    "      self.encontrado = True\n",
    "    else:\n",
    "      vetor_ordenado = VetorOrdenado(len(atual.adjacentes))\n",
    "\n",
    "      # Itera sobre os vértices adjacentes ao vértice atual\n",
    "      for adjacente in atual.adjacentes:\n",
    "        # Verifica se o vértice adjacente não foi visitado\n",
    "        if adjacente.vertice.visitado == False:\n",
    "          adjacente.vertice.visitado = True  # Marca o vértice adjacente como visitado\n",
    "          vetor_ordenado.insere(adjacente.vertice)  # Insere o vértice adjacente no vetor ordenado\n",
    "\n",
    "      vetor_ordenado.imprime()  # Imprime o vetor ordenado\n",
    "\n",
    "      # Verifica se há pelo menos um vértice no vetor ordenado\n",
    "      if vetor_ordenado.valores[0] != None:\n",
    "        # Chama recursivamente o método buscar com o vértice de menor distância\n",
    "        self.buscar(vetor_ordenado.valores[0])"
   ]
  },
  {
   "cell_type": "code",
   "execution_count": 8,
   "metadata": {},
   "outputs": [
    {
     "name": "stdout",
     "output_type": "stream",
     "text": [
      "-------\n",
      "Atual: Arad\n",
      "0  -  Sibiu  -  253\n",
      "1  -  Timisoara  -  329\n",
      "2  -  Zerind  -  374\n",
      "-------\n",
      "Atual: Sibiu\n",
      "0  -  Fagaras  -  178\n",
      "1  -  Rimnicu  -  193\n",
      "2  -  Oradea  -  380\n",
      "-------\n",
      "Atual: Fagaras\n",
      "0  -  Bucharest  -  0\n",
      "-------\n",
      "Atual: Bucharest\n"
     ]
    }
   ],
   "source": [
    "# Cria uma instância da classe Gulosa para realizar uma busca gulosa\n",
    "busca_gulosa = Gulosa(Grafo.bucharest)\n",
    "\n",
    "# Inicia a busca a partir do vértice 'Arad' no grafo\n",
    "busca_gulosa.buscar(Grafo.arad)\n"
   ]
  }
 ],
 "metadata": {
  "kernelspec": {
   "display_name": "Python 3",
   "language": "python",
   "name": "python3"
  },
  "language_info": {
   "codemirror_mode": {
    "name": "ipython",
    "version": 3
   },
   "file_extension": ".py",
   "mimetype": "text/x-python",
   "name": "python",
   "nbconvert_exporter": "python",
   "pygments_lexer": "ipython3",
   "version": "3.9.10"
  }
 },
 "nbformat": 4,
 "nbformat_minor": 2
}
