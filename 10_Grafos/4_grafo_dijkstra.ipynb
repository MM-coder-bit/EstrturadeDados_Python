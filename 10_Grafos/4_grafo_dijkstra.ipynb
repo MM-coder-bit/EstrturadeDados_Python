{
 "cells": [
  {
   "cell_type": "code",
   "execution_count": 4,
   "metadata": {},
   "outputs": [],
   "source": [
    "import numpy as np\n",
    "import sys"
   ]
  },
  {
   "cell_type": "markdown",
   "metadata": {},
   "source": [
    "### Estrutura do grafo - matriz de adjascência"
   ]
  },
  {
   "cell_type": "code",
   "execution_count": 5,
   "metadata": {},
   "outputs": [
    {
     "data": {
      "text/plain": [
       "(0, 11, 5)"
      ]
     },
     "execution_count": 5,
     "metadata": {},
     "output_type": "execute_result"
    }
   ],
   "source": [
    "# Cria um dicionário 'vertices' associando o nome da cidade ao seu índice no grafo\n",
    "vertices = {'arad': 0, 'zerind': 1, 'oradea': 2, 'sibiu': 3, 'timisoara': 4,\n",
    "            'lugoj': 5, 'mehadia': 6, 'dobreta': 7, 'craiova': 8, 'rimnicu': 9,\n",
    "            'fagaras': 10, 'pitesti': 11, 'bucharest': 12, 'giurgiu': 13}\n",
    "\n",
    "# Imprime os índices dos vértices 'arad', 'pitesti' e 'lugoj' no dicionário 'vertices'\n",
    "vertices['arad'], vertices['pitesti'], vertices['lugoj']\n"
   ]
  },
  {
   "cell_type": "code",
   "execution_count": 21,
   "metadata": {},
   "outputs": [],
   "source": [
    "# Cria um dicionário 'cidades' associando índices numéricos aos nomes das cidades\n",
    "cidades = {0: 'arad', 1: 'zerind', 2: 'oradea', 3: 'sibiu', 4: 'timisoara',\n",
    "           5: 'lugoj', 6: 'mehadia', 7: 'dobreta', 8: 'craiova', 9: 'rimnicu',\n",
    "           10: 'fagaras', 11: 'pitesti', 12: 'bucharest', 13: 'giurgiu'}"
   ]
  },
  {
   "cell_type": "code",
   "execution_count": 31,
   "metadata": {},
   "outputs": [
    {
     "data": {
      "text/plain": [
       "('arad', 'bucharest')"
      ]
     },
     "execution_count": 31,
     "metadata": {},
     "output_type": "execute_result"
    }
   ],
   "source": [
    "# Imprime os nomes das cidades associadas aos índices 0 e 12 no dicionário 'cidades'\n",
    "cidades[0], cidades[12]"
   ]
  },
  {
   "cell_type": "code",
   "execution_count": 32,
   "metadata": {},
   "outputs": [
    {
     "data": {
      "text/plain": [
       "(14, 14)"
      ]
     },
     "execution_count": 32,
     "metadata": {},
     "output_type": "execute_result"
    }
   ],
   "source": [
    "# Cria uma matriz de zeros com dimensões [número de cidades, número de cidades] e tipo de dados int\n",
    "arestas = np.zeros([len(cidades), len(cidades)], dtype=int)\n",
    "\n",
    "# Imprime as dimensões (forma) da matriz 'arestas'\n",
    "arestas.shape\n"
   ]
  },
  {
   "cell_type": "code",
   "execution_count": 33,
   "metadata": {},
   "outputs": [
    {
     "data": {
      "text/plain": [
       "(0, 1, 3, 4)"
      ]
     },
     "execution_count": 33,
     "metadata": {},
     "output_type": "execute_result"
    }
   ],
   "source": [
    "# Imprime os índices associados às cidades 'arad', 'zerind', 'sibiu' e 'timisoara' no dicionário 'vertices'\n",
    "vertices['arad'], vertices['zerind'], vertices['sibiu'], vertices['timisoara']"
   ]
  },
  {
   "cell_type": "code",
   "execution_count": 34,
   "metadata": {},
   "outputs": [],
   "source": [
    "# Define as distâncias/custos entre os vértices no grafo\n",
    "arestas[vertices['arad'], [vertices['zerind']]] = 75\n",
    "arestas[vertices['arad'], [vertices['sibiu']]] = 140\n",
    "arestas[vertices['arad'], [vertices['timisoara']]] = 118\n",
    "\n",
    "arestas[vertices['zerind'],[vertices['arad']]] = 75\n",
    "arestas[vertices['zerind'],[vertices['oradea']]] = 71\n",
    "\n",
    "arestas[vertices['oradea'],[vertices['zerind']]] = 71\n",
    "arestas[vertices['oradea'],[vertices['sibiu']]] = 151\n",
    "\n",
    "arestas[vertices['sibiu'],[vertices['oradea']]] = 151\n",
    "arestas[vertices['sibiu'],[vertices['arad']]] = 140\n",
    "arestas[vertices['sibiu'],[vertices['fagaras']]] = 99\n",
    "arestas[vertices['sibiu'],[vertices['rimnicu']]] = 80\n",
    "\n",
    "arestas[vertices['timisoara'],[vertices['arad']]] = 118\n",
    "arestas[vertices['timisoara'],[vertices['lugoj']]] = 111\n",
    "\n",
    "arestas[vertices['lugoj'],[vertices['timisoara']]] = 111\n",
    "arestas[vertices['lugoj'],[vertices['mehadia']]] = 70\n",
    "\n",
    "arestas[vertices['mehadia'],[vertices['lugoj']]] = 70\n",
    "arestas[vertices['mehadia'],[vertices['dobreta']]] = 75\n",
    "\n",
    "arestas[vertices['dobreta'],[vertices['mehadia']]] = 75\n",
    "arestas[vertices['dobreta'],[vertices['craiova']]] = 120\n",
    "\n",
    "arestas[vertices['craiova'],[vertices['dobreta']]] = 120\n",
    "arestas[vertices['craiova'],[vertices['pitesti']]] = 138\n",
    "arestas[vertices['craiova'],[vertices['rimnicu']]] = 146\n",
    "\n",
    "arestas[vertices['rimnicu'],[vertices['craiova']]] = 146\n",
    "arestas[vertices['rimnicu'],[vertices['sibiu']]] = 80\n",
    "arestas[vertices['rimnicu'],[vertices['pitesti']]] = 97\n",
    "\n",
    "arestas[vertices['fagaras'],[vertices['sibiu']]] = 99\n",
    "arestas[vertices['fagaras'],[vertices['bucharest']]] = 211\n",
    "\n",
    "arestas[vertices['pitesti'],[vertices['rimnicu']]] = 97\n",
    "arestas[vertices['pitesti'],[vertices['craiova']]] = 138\n",
    "arestas[vertices['pitesti'],[vertices['bucharest']]] = 101\n",
    "\n",
    "arestas[vertices['bucharest'],[vertices['fagaras']]] = 211\n",
    "arestas[vertices['bucharest'],[vertices['pitesti']]] = 101\n",
    "arestas[vertices['bucharest'],[vertices['giurgiu']]] = 90"
   ]
  },
  {
   "cell_type": "code",
   "execution_count": 26,
   "metadata": {},
   "outputs": [
    {
     "data": {
      "text/plain": [
       "array([[  0,  75,   0, 140, 118,   0,   0,   0,   0,   0,   0,   0,   0,\n",
       "          0],\n",
       "       [ 75,   0,  71,   0,   0,   0,   0,   0,   0,   0,   0,   0,   0,\n",
       "          0],\n",
       "       [  0,  71,   0, 151,   0,   0,   0,   0,   0,   0,   0,   0,   0,\n",
       "          0],\n",
       "       [140,   0, 151,   0,   0,   0,   0,   0,   0,  80,  99,   0,   0,\n",
       "          0],\n",
       "       [118,   0,   0,   0,   0, 111,   0,   0,   0,   0,   0,   0,   0,\n",
       "          0],\n",
       "       [  0,   0,   0,   0, 111,   0,  70,   0,   0,   0,   0,   0,   0,\n",
       "          0],\n",
       "       [  0,   0,   0,   0,   0,  70,   0,  75,   0,   0,   0,   0,   0,\n",
       "          0],\n",
       "       [  0,   0,   0,   0,   0,   0,  75,   0, 120,   0,   0,   0,   0,\n",
       "          0],\n",
       "       [  0,   0,   0,   0,   0,   0,   0, 120,   0, 146,   0, 138,   0,\n",
       "          0],\n",
       "       [  0,   0,   0,  80,   0,   0,   0,   0, 146,   0,   0,  97,   0,\n",
       "          0],\n",
       "       [  0,   0,   0,  99,   0,   0,   0,   0,   0,   0,   0,   0, 211,\n",
       "          0],\n",
       "       [  0,   0,   0,   0,   0,   0,   0,   0, 138,  97,   0,   0, 101,\n",
       "          0],\n",
       "       [  0,   0,   0,   0,   0,   0,   0,   0,   0,   0, 211, 101,   0,\n",
       "         90],\n",
       "       [  0,   0,   0,   0,   0,   0,   0,   0,   0,   0,   0,   0,   0,\n",
       "          0]])"
      ]
     },
     "execution_count": 26,
     "metadata": {},
     "output_type": "execute_result"
    }
   ],
   "source": [
    "# imprime a matriz de adjacência que representa as distâncias entre as cidades do seu grafo ponderado\n",
    "print(arestas)"
   ]
  },
  {
   "cell_type": "code",
   "execution_count": 35,
   "metadata": {},
   "outputs": [
    {
     "name": "stdout",
     "output_type": "stream",
     "text": [
      "[97]\n",
      "[140]\n"
     ]
    }
   ],
   "source": [
    "# Imprime o custo de viajar de Pitesti para Rimnicu\n",
    "print(arestas[vertices['pitesti'], [vertices['rimnicu']]])\n",
    "\n",
    "# Imprime o custo de viajar de Arad para Sibiu\n",
    "print(arestas[vertices['arad'], [vertices['sibiu']]])\n"
   ]
  },
  {
   "cell_type": "markdown",
   "metadata": {},
   "source": [
    "## Algoritmo Dijkstra"
   ]
  },
  {
   "cell_type": "code",
   "execution_count": 30,
   "metadata": {},
   "outputs": [],
   "source": [
    "class Dijkstra:\n",
    "  # O método __init__ é chamado quando um objeto da classe é criado.\n",
    "  def __init__(self, vertices, arestas, inicio):\n",
    "    self.tamanho = len(vertices)  # Número de vértices no grafo\n",
    "    self.vertices = vertices  # Lista de rótulos de vértices\n",
    "    self.grafo = arestas  # Matriz de adjacência representando as arestas e pesos\n",
    "    self.inicio = inicio  # Índice do vértice de início para o algoritmo\n",
    "\n",
    "  # Método para mostrar as soluções do algoritmo de Dijkstra\n",
    "  def mostra_solucao(self, distancias):\n",
    "    print('Menores distâncias de {} até todos os outros'.format(self.vertices[self.inicio]))\n",
    "    for vertice in range(self.tamanho):\n",
    "      print(self.vertices[vertice], distancias[vertice])\n",
    "\n",
    "  # Método para encontrar o vértice não visitado com a menor distância\n",
    "  def distancia_minima(self, distancia, visitados):\n",
    "    minimo = sys.maxsize\n",
    "    for vertice in range(self.tamanho):\n",
    "      if distancia[vertice] < minimo and not visitados[vertice]:\n",
    "        minimo = distancia[vertice]\n",
    "        indice_minimo = vertice\n",
    "    return indice_minimo\n",
    "\n",
    "  # Algoritmo de Dijkstra para encontrar as menores distâncias de um vértice de início para todos os outros vértices\n",
    "  def dijkstra(self):\n",
    "    distancia = [sys.maxsize] * self.tamanho  # Inicializa as distâncias como infinito\n",
    "    distancia[self.inicio] = 0  # Define a distância do vértice de início para ele mesmo como 0\n",
    "    visitados = [False] * self.tamanho  # Inicializa a lista de visitados como falso\n",
    "\n",
    "    for _ in range(self.tamanho):\n",
    "      indice_minimo = self.distancia_minima(distancia, visitados)  # Encontra o vértice não visitado com a menor distância\n",
    "      visitados[indice_minimo] = True  # Marca o vértice como visitado\n",
    "\n",
    "      # Atualiza as distâncias dos vértices vizinhos\n",
    "      for vertice in range(self.tamanho):\n",
    "        if self.grafo[indice_minimo][vertice] > 0 and not visitados[vertice] \\\n",
    "            and distancia[vertice] > distancia[indice_minimo] + self.grafo[indice_minimo][vertice]:\n",
    "          distancia[vertice] = distancia[indice_minimo] + self.grafo[indice_minimo][vertice]\n",
    "\n",
    "    self.mostra_solucao(distancia)  # Mostra as soluções do algoritmo\n"
   ]
  },
  {
   "cell_type": "markdown",
   "metadata": {},
   "source": [
    "### teste de Arad para Bucharest\n",
    "<img src=\"imagens\\\\dijkstracidade.png\" width=\"800\" height=\"400\">"
   ]
  },
  {
   "cell_type": "code",
   "execution_count": 36,
   "metadata": {},
   "outputs": [
    {
     "name": "stdout",
     "output_type": "stream",
     "text": [
      "Menores distâncias de arad até todos os outros\n",
      "arad 0\n",
      "zerind 75\n",
      "oradea 146\n",
      "sibiu 140\n",
      "timisoara 118\n",
      "lugoj 229\n",
      "mehadia 299\n",
      "dobreta 374\n",
      "craiova 366\n",
      "rimnicu 220\n",
      "fagaras 239\n",
      "pitesti 317\n",
      "bucharest 418\n",
      "giurgiu 508\n"
     ]
    }
   ],
   "source": [
    "dijkstra = Dijkstra(cidades, arestas, vertices['arad'])\n",
    "dijkstra.dijkstra()"
   ]
  },
  {
   "cell_type": "markdown",
   "metadata": {},
   "source": [
    "## teste com outro grafo"
   ]
  },
  {
   "cell_type": "markdown",
   "metadata": {},
   "source": [
    "### imagem de referência\n",
    "<img src=\"imagens\\\\dijkstra.png\" width=\"400\" height=\"200\">"
   ]
  },
  {
   "cell_type": "code",
   "execution_count": 37,
   "metadata": {},
   "outputs": [],
   "source": [
    "# Dicionário para mapear rótulos de vértices para índices\n",
    "vertices2 = {'A': 0, 'B': 1, 'C': 2, 'D': 3, 'E': 4, 'F': 5}\n",
    "\n",
    "# Dicionário inverso para mapear índices de vértices para rótulos\n",
    "vertices2_inv = {0: 'A', 1: 'B', 2:'C', 3:'D', 4:'E', 5: 'F'}\n",
    "\n",
    "# Matriz de adjacência representando as arestas entre os vértices\n",
    "arestas2 = np.zeros([len(vertices2), len(vertices2)], dtype=int)\n",
    "\n",
    "# Define os pesos das arestas entre os vértices\n",
    "arestas2[vertices2['A'],[vertices2['B']]] = 2\n",
    "arestas2[vertices2['A'],[vertices2['C']]] = 1\n",
    "arestas2[vertices2['B'],[vertices2['D']]] = 1\n",
    "arestas2[vertices2['C'],[vertices2['D']]] = 3\n",
    "arestas2[vertices2['C'],[vertices2['E']]] = 4\n",
    "arestas2[vertices2['D'],[vertices2['F']]] = 2\n",
    "arestas2[vertices2['E'],[vertices2['F']]] = 2\n"
   ]
  },
  {
   "cell_type": "code",
   "execution_count": 38,
   "metadata": {},
   "outputs": [
    {
     "data": {
      "text/plain": [
       "array([[0, 2, 1, 0, 0, 0],\n",
       "       [0, 0, 0, 1, 0, 0],\n",
       "       [0, 0, 0, 3, 4, 0],\n",
       "       [0, 0, 0, 0, 0, 2],\n",
       "       [0, 0, 0, 0, 0, 2],\n",
       "       [0, 0, 0, 0, 0, 0]])"
      ]
     },
     "execution_count": 38,
     "metadata": {},
     "output_type": "execute_result"
    }
   ],
   "source": [
    "arestas2"
   ]
  },
  {
   "cell_type": "code",
   "execution_count": 39,
   "metadata": {},
   "outputs": [
    {
     "name": "stdout",
     "output_type": "stream",
     "text": [
      "Menores distâncias de A até todos os outros\n",
      "A 0\n",
      "B 2\n",
      "C 1\n",
      "D 3\n",
      "E 5\n",
      "F 5\n"
     ]
    }
   ],
   "source": [
    "dijkstra2 = Dijkstra(vertices2_inv, arestas2, vertices2['A'])\n",
    "dijkstra2.dijkstra()"
   ]
  }
 ],
 "metadata": {
  "kernelspec": {
   "display_name": "Python 3",
   "language": "python",
   "name": "python3"
  },
  "language_info": {
   "codemirror_mode": {
    "name": "ipython",
    "version": 3
   },
   "file_extension": ".py",
   "mimetype": "text/x-python",
   "name": "python",
   "nbconvert_exporter": "python",
   "pygments_lexer": "ipython3",
   "version": "3.9.10"
  }
 },
 "nbformat": 4,
 "nbformat_minor": 2
}
