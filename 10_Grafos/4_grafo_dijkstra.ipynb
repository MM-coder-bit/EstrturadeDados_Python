{
 "cells": [
  {
   "cell_type": "code",
   "execution_count": 4,
   "metadata": {},
   "outputs": [],
   "source": [
    "import numpy as np\n",
    "import sys"
   ]
  },
  {
   "cell_type": "markdown",
   "metadata": {},
   "source": [
    "### Estrutura do grafo - matriz de adjascência"
   ]
  },
  {
   "cell_type": "code",
   "execution_count": 5,
   "metadata": {},
   "outputs": [
    {
     "data": {
      "text/plain": [
       "(0, 11, 5)"
      ]
     },
     "execution_count": 5,
     "metadata": {},
     "output_type": "execute_result"
    }
   ],
   "source": [
    "vertices = {'arad': 0, 'zerind': 1, 'oradea': 2, 'sibiu': 3, 'timisoara': 4,\n",
    "            'lugoj': 5, 'mehadia': 6, 'dobreta': 7, 'craiova': 8, 'rimnicu': 9,\n",
    "            'fagaras': 10, 'pitesti': 11, 'bucharest': 12, 'giurgiu': 13}\n",
    "\n",
    "vertices['arad'], vertices['pitesti'], vertices['lugoj']"
   ]
  },
  {
   "cell_type": "code",
   "execution_count": 21,
   "metadata": {},
   "outputs": [],
   "source": [
    "cidades = {0: 'arad', 1: 'zerind', 2: 'oradea', 3: 'sibiu', 4: 'timisoara',\n",
    "           5: 'lugoj', 6: 'mehadia', 7: 'dobreta', 8: 'craiova', 9: 'rimnicu',\n",
    "           10: 'fagaras', 11: 'pitesti', 12: 'bucharest', 13: 'giurgiu'}"
   ]
  },
  {
   "cell_type": "code",
   "execution_count": 22,
   "metadata": {},
   "outputs": [
    {
     "data": {
      "text/plain": [
       "('arad', 'bucharest')"
      ]
     },
     "execution_count": 22,
     "metadata": {},
     "output_type": "execute_result"
    }
   ],
   "source": [
    "cidades[0], cidades[12]"
   ]
  },
  {
   "cell_type": "code",
   "execution_count": 8,
   "metadata": {},
   "outputs": [
    {
     "data": {
      "text/plain": [
       "(14, 14)"
      ]
     },
     "execution_count": 8,
     "metadata": {},
     "output_type": "execute_result"
    }
   ],
   "source": [
    "arestas = np.zeros([len(cidades), len(cidades)], dtype=int)\n",
    "arestas.shape"
   ]
  },
  {
   "cell_type": "code",
   "execution_count": 11,
   "metadata": {},
   "outputs": [
    {
     "data": {
      "text/plain": [
       "(0, 1, 3, 4)"
      ]
     },
     "execution_count": 11,
     "metadata": {},
     "output_type": "execute_result"
    }
   ],
   "source": [
    "vertices['arad'], vertices['zerind'], vertices['sibiu'], vertices['timisoara']"
   ]
  },
  {
   "cell_type": "code",
   "execution_count": 13,
   "metadata": {},
   "outputs": [],
   "source": [
    "arestas[vertices['arad'], [vertices['zerind']]] = 75\n",
    "arestas[vertices['arad'], [vertices['sibiu']]] = 140\n",
    "arestas[vertices['arad'], [vertices['timisoara']]] = 118\n",
    "\n",
    "arestas[vertices['zerind'],[vertices['arad']]] = 75\n",
    "arestas[vertices['zerind'],[vertices['oradea']]] = 71\n",
    "\n",
    "arestas[vertices['oradea'],[vertices['zerind']]] = 71\n",
    "arestas[vertices['oradea'],[vertices['sibiu']]] = 151\n",
    "\n",
    "arestas[vertices['sibiu'],[vertices['oradea']]] = 151\n",
    "arestas[vertices['sibiu'],[vertices['arad']]] = 140\n",
    "arestas[vertices['sibiu'],[vertices['fagaras']]] = 99\n",
    "arestas[vertices['sibiu'],[vertices['rimnicu']]] = 80\n",
    "\n",
    "arestas[vertices['timisoara'],[vertices['arad']]] = 118\n",
    "arestas[vertices['timisoara'],[vertices['lugoj']]] = 111\n",
    "\n",
    "arestas[vertices['lugoj'],[vertices['timisoara']]] = 111\n",
    "arestas[vertices['lugoj'],[vertices['mehadia']]] = 70\n",
    "\n",
    "arestas[vertices['mehadia'],[vertices['lugoj']]] = 70\n",
    "arestas[vertices['mehadia'],[vertices['dobreta']]] = 75\n",
    "\n",
    "arestas[vertices['dobreta'],[vertices['mehadia']]] = 75\n",
    "arestas[vertices['dobreta'],[vertices['craiova']]] = 120\n",
    "\n",
    "arestas[vertices['craiova'],[vertices['dobreta']]] = 120\n",
    "arestas[vertices['craiova'],[vertices['pitesti']]] = 138\n",
    "arestas[vertices['craiova'],[vertices['rimnicu']]] = 146\n",
    "\n",
    "arestas[vertices['rimnicu'],[vertices['craiova']]] = 146\n",
    "arestas[vertices['rimnicu'],[vertices['sibiu']]] = 80\n",
    "arestas[vertices['rimnicu'],[vertices['pitesti']]] = 97\n",
    "\n",
    "arestas[vertices['fagaras'],[vertices['sibiu']]] = 99\n",
    "arestas[vertices['fagaras'],[vertices['bucharest']]] = 211\n",
    "\n",
    "arestas[vertices['pitesti'],[vertices['rimnicu']]] = 97\n",
    "arestas[vertices['pitesti'],[vertices['craiova']]] = 138\n",
    "arestas[vertices['pitesti'],[vertices['bucharest']]] = 101\n",
    "\n",
    "arestas[vertices['bucharest'],[vertices['fagaras']]] = 211\n",
    "arestas[vertices['bucharest'],[vertices['pitesti']]] = 101\n",
    "arestas[vertices['bucharest'],[vertices['giurgiu']]] = 90"
   ]
  },
  {
   "cell_type": "code",
   "execution_count": 14,
   "metadata": {},
   "outputs": [
    {
     "data": {
      "text/plain": [
       "array([97])"
      ]
     },
     "execution_count": 14,
     "metadata": {},
     "output_type": "execute_result"
    }
   ],
   "source": [
    "arestas[vertices['pitesti'],[vertices['rimnicu']]]"
   ]
  },
  {
   "cell_type": "code",
   "execution_count": 15,
   "metadata": {},
   "outputs": [
    {
     "data": {
      "text/plain": [
       "array([140])"
      ]
     },
     "execution_count": 15,
     "metadata": {},
     "output_type": "execute_result"
    }
   ],
   "source": [
    "arestas[vertices['arad'],[vertices['sibiu']]]"
   ]
  },
  {
   "cell_type": "code",
   "execution_count": 16,
   "metadata": {},
   "outputs": [
    {
     "data": {
      "text/plain": [
       "'zerind'"
      ]
     },
     "execution_count": 16,
     "metadata": {},
     "output_type": "execute_result"
    }
   ],
   "source": [
    "cidades[1]"
   ]
  },
  {
   "cell_type": "code",
   "execution_count": 17,
   "metadata": {},
   "outputs": [
    {
     "data": {
      "text/plain": [
       "9223372036854775807"
      ]
     },
     "execution_count": 17,
     "metadata": {},
     "output_type": "execute_result"
    }
   ],
   "source": [
    "sys.maxsize"
   ]
  },
  {
   "cell_type": "code",
   "execution_count": 18,
   "metadata": {},
   "outputs": [
    {
     "data": {
      "text/plain": [
       "[9223372036854775807,\n",
       " 9223372036854775807,\n",
       " 9223372036854775807,\n",
       " 9223372036854775807,\n",
       " 9223372036854775807,\n",
       " 9223372036854775807,\n",
       " 9223372036854775807,\n",
       " 9223372036854775807,\n",
       " 9223372036854775807,\n",
       " 9223372036854775807,\n",
       " 9223372036854775807,\n",
       " 9223372036854775807,\n",
       " 9223372036854775807,\n",
       " 9223372036854775807]"
      ]
     },
     "execution_count": 18,
     "metadata": {},
     "output_type": "execute_result"
    }
   ],
   "source": [
    "[sys.maxsize] * 14"
   ]
  },
  {
   "cell_type": "code",
   "execution_count": 19,
   "metadata": {},
   "outputs": [
    {
     "data": {
      "text/plain": [
       "[False,\n",
       " False,\n",
       " False,\n",
       " False,\n",
       " False,\n",
       " False,\n",
       " False,\n",
       " False,\n",
       " False,\n",
       " False,\n",
       " False,\n",
       " False,\n",
       " False,\n",
       " False]"
      ]
     },
     "execution_count": 19,
     "metadata": {},
     "output_type": "execute_result"
    }
   ],
   "source": [
    "[False] * 14"
   ]
  },
  {
   "cell_type": "code",
   "execution_count": 3,
   "metadata": {},
   "outputs": [],
   "source": [
    "class Dijkstra:\n",
    "  # O método __init__ é chamado quando um objeto da classe é criado.\n",
    "  def __init__(self, vertices, arestas, inicio):\n",
    "    self.tamanho = len(vertices)  # Número de vértices no grafo\n",
    "    self.vertices = vertices  # Lista de rótulos de vértices\n",
    "    self.grafo = arestas  # Matriz de adjacência representando as arestas e pesos\n",
    "    self.inicio = inicio  # Índice do vértice de início para o algoritmo\n",
    "\n",
    "  # Método para mostrar as soluções do algoritmo de Dijkstra\n",
    "  def mostra_solucao(self, distancias):\n",
    "    print('Menores distâncias de {} até todos os outros'.format(self.vertices[self.inicio]))\n",
    "    for vertice in range(self.tamanho):\n",
    "      print(self.vertices[vertice], distancias[vertice])\n",
    "\n",
    "  # Método para encontrar o vértice não visitado com a menor distância\n",
    "  def distancia_minima(self, distancia, visitados):\n",
    "    minimo = sys.maxsize\n",
    "    for vertice in range(self.tamanho):\n",
    "      if distancia[vertice] < minimo and not visitados[vertice]:\n",
    "        minimo = distancia[vertice]\n",
    "        indice_minimo = vertice\n",
    "    return indice_minimo\n",
    "\n",
    "  # Algoritmo de Dijkstra para encontrar as menores distâncias de um vértice de início para todos os outros vértices\n",
    "  def dijkstra(self):\n",
    "    distancia = [sys.maxsize] * self.tamanho  # Inicializa as distâncias como infinito\n",
    "    distancia[self.inicio] = 0  # Define a distância do vértice de início para ele mesmo como 0\n",
    "    visitados = [False] * self.tamanho  # Inicializa a lista de visitados como falso\n",
    "\n",
    "    for _ in range(self.tamanho):\n",
    "      indice_minimo = self.distancia_minima(distancia, visitados)  # Encontra o vértice não visitado com a menor distância\n",
    "      visitados[indice_minimo] = True  # Marca o vértice como visitado\n",
    "\n",
    "      # Atualiza as distâncias dos vértices vizinhos\n",
    "      for vertice in range(self.tamanho):\n",
    "        if self.grafo[indice_minimo][vertice] > 0 and not visitados[vertice] \\\n",
    "            and distancia[vertice] > distancia[indice_minimo] + self.grafo[indice_minimo][vertice]:\n",
    "          distancia[vertice] = distancia[indice_minimo] + self.grafo[indice_minimo][vertice]\n",
    "\n",
    "    self.mostra_solucao(distancia)  # Mostra as soluções do algoritmo\n"
   ]
  },
  {
   "cell_type": "markdown",
   "metadata": {},
   "source": [
    "### imagem de referência\n",
    "<img src=\"imagens\\\\dijkstra.png\" width=\"400\" height=\"200\">"
   ]
  },
  {
   "cell_type": "code",
   "execution_count": null,
   "metadata": {},
   "outputs": [],
   "source": [
    "# Dicionário para mapear rótulos de vértices para índices\n",
    "vertices2 = {'A': 0, 'B': 1, 'C': 2, 'D': 3, 'E': 4, 'F': 5}\n",
    "\n",
    "# Dicionário inverso para mapear índices de vértices para rótulos\n",
    "vertices2_inv = {0: 'A', 1: 'B', 2:'C', 3:'D', 4:'E', 5: 'F'}\n",
    "\n",
    "# Matriz de adjacência representando as arestas entre os vértices\n",
    "arestas2 = np.zeros([len(vertices2), len(vertices2)], dtype=int)\n",
    "\n",
    "# Define os pesos das arestas entre os vértices\n",
    "arestas2[vertices2['A'],[vertices2['B']]] = 2\n",
    "arestas2[vertices2['A'],[vertices2['C']]] = 1\n",
    "arestas2[vertices2['B'],[vertices2['D']]] = 1\n",
    "arestas2[vertices2['C'],[vertices2['D']]] = 3\n",
    "arestas2[vertices2['C'],[vertices2['E']]] = 4\n",
    "arestas2[vertices2['D'],[vertices2['F']]] = 2\n",
    "arestas2[vertices2['E'],[vertices2['F']]] = 2\n"
   ]
  }
 ],
 "metadata": {
  "kernelspec": {
   "display_name": "Python 3",
   "language": "python",
   "name": "python3"
  },
  "language_info": {
   "codemirror_mode": {
    "name": "ipython",
    "version": 3
   },
   "file_extension": ".py",
   "mimetype": "text/x-python",
   "name": "python",
   "nbconvert_exporter": "python",
   "pygments_lexer": "ipython3",
   "version": "3.9.10"
  }
 },
 "nbformat": 4,
 "nbformat_minor": 2
}
