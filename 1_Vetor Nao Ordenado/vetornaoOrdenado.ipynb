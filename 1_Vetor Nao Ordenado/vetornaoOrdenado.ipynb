{
 "cells": [
  {
   "cell_type": "code",
   "execution_count": 1,
   "metadata": {},
   "outputs": [],
   "source": [
    "# Import numpy\n",
    "import numpy as np"
   ]
  },
  {
   "cell_type": "code",
   "execution_count": 20,
   "metadata": {},
   "outputs": [],
   "source": [
    "# Create class()\n",
    "class VetorNaoOrdenado:\n",
    " \n",
    "  def __init__(self, capacidade):                          # Initialize the unordered vector with a given capacity\n",
    "    self.capacidade = capacidade                           # The capacity of the vector\n",
    "    self.ultima_posicao = -1                               # The index of the last element in the vector\n",
    "    self.valores = np.empty(self.capacidade, dtype=int)    # The array that stores the values of the vector\n",
    "\n",
    "  def imprime(self):\n",
    "    if self.ultima_posicao == -1:                          # Prints all the elements of the vector.\n",
    "          print('O vetor está vazio')                      # If the vector is empty, it prints the message \"The vector is empty\"\n",
    "    else:                                                  # Otherwise, it iterates over the positions in the vector and prints each element.\n",
    "        for i in range(self.ultima_posicao + 1):\n",
    "             print(i, ' - ', self.valores[i])\n",
    "\n",
    "  # Big-O constant time complexity - O(1) - O(2)\n",
    "  def insere(self, valor):\n",
    "    if self.ultima_posicao == self.capacidade - 1:          # Check if the array is already full\n",
    "      print('Capacidade máxima atingida')                   # If so, print a message and exit the function\n",
    "    else:\n",
    "      self.ultima_posicao += 1                              # If there's still space, increment the index of the last element\n",
    "      self.valores[self.ultima_posicao] = valor             # and insert the new value at that position\n",
    "\n",
    "  # Big-O linear O(n)\n",
    "  def pesquisar(self, valor):\n",
    "      for i in range(self.ultima_posicao + 1):               # Iterate through the list of values\n",
    "        if valor == self.valores[i]:                         # Check if the current value in the list matches the search value\n",
    "         return i                                            # If a match is found, return the index of the value\n",
    "      return -1                                              # If no match is found, return -1\n",
    "  \n",
    "  # Big-O linear O(n)\n",
    "  def excluir(self, valor):\n",
    "    posicao = self.pesquisar(valor)                          # Search for the position of the value in the list\n",
    "    if posicao == -1:                                        # If the value is not found, return -1\n",
    "        return -1\n",
    "    else:\n",
    "        for i in range(posicao, self.ultima_posicao):        # Shift all elements after the found position to the left\n",
    "          self.valores[i] = self.valores[i + 1]              # Assign the value at the current position to the next position\n",
    "        self.ultima_posicao -= 1                             # Decrement the last position index to reflect the removal of the element\n"
   ]
  },
  {
   "cell_type": "code",
   "execution_count": 35,
   "metadata": {},
   "outputs": [
    {
     "name": "stdout",
     "output_type": "stream",
     "text": [
      "---Vetor vazio------\n",
      "O vetor está vazio\n",
      "---Inserindo dados------\n",
      "0  -  1\n",
      "1  -  2\n",
      "2  -  3\n",
      "3  -  4\n",
      "4  -  5\n",
      "5  -  6\n",
      "---Ultima Posição------\n",
      "5\n",
      "----Excluindo o item 4-----\n",
      "0  -  1\n",
      "1  -  2\n",
      "2  -  3\n",
      "3  -  5\n",
      "4  -  6\n",
      "----Inserindo um novo valor-----\n",
      "0  -  1\n",
      "1  -  2\n",
      "2  -  3\n",
      "3  -  5\n",
      "4  -  6\n",
      "5  -  100\n"
     ]
    }
   ],
   "source": [
    "v = VetorNaoOrdenado(10)\n",
    "print('---Vetor vazio------')\n",
    "v.imprime()\n",
    "\n",
    "# insetindo dados\n",
    "v.insere(1)\n",
    "v.insere(2)\n",
    "v.insere(3)\n",
    "v.insere(4)\n",
    "v.insere(5)\n",
    "v.insere(6)\n",
    "\n",
    "print('---Inserindo dados------')\n",
    "v.imprime()\n",
    "\n",
    "print('---Ultima Posição------')\n",
    "print(v.ultima_posicao)\n",
    "\n",
    "print('----Excluindo o item 4-----')\n",
    "v.excluir(4)\n",
    "v.imprime()\n",
    "\n",
    "print('----Inserindo um novo valor-----')\n",
    "v.insere(100)\n",
    "v.imprime()"
   ]
  }
 ],
 "metadata": {
  "kernelspec": {
   "display_name": "Python 3",
   "language": "python",
   "name": "python3"
  },
  "language_info": {
   "codemirror_mode": {
    "name": "ipython",
    "version": 3
   },
   "file_extension": ".py",
   "mimetype": "text/x-python",
   "name": "python",
   "nbconvert_exporter": "python",
   "pygments_lexer": "ipython3",
   "version": "3.9.10"
  }
 },
 "nbformat": 4,
 "nbformat_minor": 2
}
