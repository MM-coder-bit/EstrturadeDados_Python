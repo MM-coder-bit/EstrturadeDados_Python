{
 "cells": [
  {
   "cell_type": "code",
   "execution_count": 8,
   "metadata": {},
   "outputs": [],
   "source": [
    "import numpy as np"
   ]
  },
  {
   "cell_type": "code",
   "execution_count": 45,
   "metadata": {},
   "outputs": [],
   "source": [
    "# The VetorOrdenado class represents an ordered array with a fixed capacity.\n",
    "class VetorOrdenado:\n",
    "\n",
    "   # Initialize the array with a given capacity.\n",
    "   def __init__(self, capacidade):\n",
    "       self.capacidade = capacidade                         # Store the capacity.\n",
    "       self.ultima_posicao = -1                             # Initialize the last position to -1 (empty).\n",
    "       self.valores = np.empty(self.capacidade, dtype=int)  # Create an empty array with the given capacity.\n",
    "#  \n",
    "   # O(n)\n",
    "   # Print the array elements.\n",
    "   def imprime(self):\n",
    "       if self.ultima_posicao == -1:                        # If the array is empty, print a message.\n",
    "           print('O vetor está vazio')\n",
    "       else:\n",
    "           for i in range(self.ultima_posicao + 1):         # Otherwise, iterate over the array and print its elements.\n",
    "               print(i, ' - ', self.valores[i])\n",
    "\n",
    "   # O(n)\n",
    "   # Insert a value into the array, preserving its order.\n",
    "   def insere(self, valor):\n",
    "       if self.ultima_posicao == self.capacidade - 1:       # If the array is full, do not insert the value.\n",
    "           print('Capacidade máxima atingida')\n",
    "           return\n",
    "       \n",
    "       posicao = 0                                          # Initialize the position to insert the value.\n",
    "       for i in range(self.ultima_posicao + 1):             # Iterate over the array.\n",
    "           posicao = i                                      # Update the position to insert the value.\n",
    "           if self.valores[i] > valor:                      # If a smaller value is found, break the loop.\n",
    "               break\n",
    "           if i == self.ultima_posicao:                     # If the end of the array is reached, set the position to insert at the end.\n",
    "               posicao = i + 1\n",
    "\n",
    "       x = self.ultima_posicao                              # Initialize a variable to shift elements.\n",
    "       while x >= posicao:                                  # Shift elements to the right to make room for the new value.\n",
    "           self.valores[x + 1] = self.valores[x]\n",
    "           x -= 1\n",
    "\n",
    "       self.valores[posicao] = valor                        # Insert the value at the calculated position.\n",
    "       self.ultima_posicao += 1                             # Increment the last position.\n",
    "\n",
    "   # O(n)\n",
    "   # Perform a linear search for a value in the array.\n",
    "   def pesquisa_linear(self, valor):\n",
    "       for i in range(self.ultima_posicao + 1):             # Iterate over the array.\n",
    "           if self.valores[i] > valor:                      # If a larger value is found, return -1 (not found).\n",
    "               return -1\n",
    "           if self.valores[i] == valor:                     # If the value is found, return its position.\n",
    "               return i\n",
    "           if i == self.ultima_posicao:                     # If the end of the array is reached, return -1 (not found).\n",
    "               return -1\n",
    "         \n",
    "   # O(n)\n",
    "   # Remove a value from the array.\n",
    "   def excluir(self, valor):\n",
    "      posicao = self.pesquisa_linear(valor)                                   # Find the value's position.\n",
    "      if posicao == -1:                                                 # If the value is not found, do not remove anything.\n",
    "          return -1\n",
    "      else:\n",
    "          for i in range(posicao, self.ultima_posicao):                 # Shift elements to the left to fill the gap.\n",
    "              self.valores[i] = self.valores[i + 1]\n",
    "   \n",
    "          self.ultima_posicao -= 1                                      # Decrement the last position.\n",
    "\n"
   ]
  },
  {
   "cell_type": "markdown",
   "metadata": {},
   "source": [
    "## Testes"
   ]
  },
  {
   "cell_type": "code",
   "execution_count": 46,
   "metadata": {},
   "outputs": [
    {
     "name": "stdout",
     "output_type": "stream",
     "text": [
      "O vetor está vazio\n",
      "----- Insere -----\n",
      "0  -  9\n",
      "----- Insere -----\n",
      "0  -  4\n",
      "1  -  9\n",
      "----- Insere -----\n",
      "0  -  4\n",
      "1  -  7\n",
      "2  -  9\n",
      "----- Pesquisa Linear -----\n"
     ]
    },
    {
     "data": {
      "text/plain": [
       "-1"
      ]
     },
     "execution_count": 46,
     "metadata": {},
     "output_type": "execute_result"
    }
   ],
   "source": [
    "vetor = VetorOrdenado(10) # Create an ordered array with a capacity of 10.\n",
    "vetor.imprime()\n",
    "# -------------------------------- #\n",
    "print(5 * '-' ,'Insere' ,5 * '-')\n",
    "vetor.insere(9)\n",
    "vetor.imprime()\n",
    "\n",
    "print(5 * '-' ,'Insere' ,5 * '-')\n",
    "vetor.insere(4)\n",
    "vetor.imprime()\n",
    "\n",
    "print(5 * '-' ,'Insere' ,5 * '-')\n",
    "vetor.insere(7)\n",
    "vetor.imprime()\n",
    "# -------------------------------- #\n",
    "print(5 * '-' ,'Pesquisa Linear' ,5 * '-')\n",
    "vetor.pesquisa_linear(0)\n",
    "\n"
   ]
  },
  {
   "cell_type": "code",
   "execution_count": 47,
   "metadata": {},
   "outputs": [
    {
     "name": "stdout",
     "output_type": "stream",
     "text": [
      "----- Excluir -----\n",
      "0  -  4\n",
      "1  -  7\n"
     ]
    }
   ],
   "source": [
    "# -------------------------------- #\n",
    "print(5 * '-' ,'Excluir' ,5 * '-')\n",
    "vetor.excluir(9)\n",
    "vetor.imprime()"
   ]
  }
 ],
 "metadata": {
  "kernelspec": {
   "display_name": "Python 3",
   "language": "python",
   "name": "python3"
  },
  "language_info": {
   "codemirror_mode": {
    "name": "ipython",
    "version": 3
   },
   "file_extension": ".py",
   "mimetype": "text/x-python",
   "name": "python",
   "nbconvert_exporter": "python",
   "pygments_lexer": "ipython3",
   "version": "3.9.10"
  }
 },
 "nbformat": 4,
 "nbformat_minor": 2
}
