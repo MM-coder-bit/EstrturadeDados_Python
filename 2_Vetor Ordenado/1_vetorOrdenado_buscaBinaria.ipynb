{
 "cells": [
  {
   "cell_type": "code",
   "execution_count": 1,
   "metadata": {},
   "outputs": [],
   "source": [
    "import numpy as np"
   ]
  },
  {
   "cell_type": "code",
   "execution_count": 2,
   "metadata": {},
   "outputs": [],
   "source": [
    "# The VetorOrdenado class represents an ordered array with a fixed capacity.\n",
    "class VetorOrdenado:\n",
    "\n",
    "   # Initialize the array with a given capacity.\n",
    "   def __init__(self, capacidade):\n",
    "       self.capacidade = capacidade                         # Store the capacity.\n",
    "       self.ultima_posicao = -1                             # Initialize the last position to -1 (empty).\n",
    "       self.valores = np.empty(self.capacidade, dtype=int)  # Create an empty array with the given capacity.\n",
    "#  \n",
    "   # O(n)\n",
    "   # Print the array elements.\n",
    "   def imprime(self):\n",
    "       if self.ultima_posicao == -1:                        # If the array is empty, print a message.\n",
    "           print('O vetor está vazio')\n",
    "       else:\n",
    "           for i in range(self.ultima_posicao + 1):         # Otherwise, iterate over the array and print its elements.\n",
    "               print(i, ' - ', self.valores[i])\n",
    "\n",
    "   # O(n)\n",
    "   # Insert a value into the array, preserving its order.\n",
    "   def insere(self, valor):\n",
    "       if self.ultima_posicao == self.capacidade - 1:       # If the array is full, do not insert the value.\n",
    "           print('Capacidade máxima atingida')\n",
    "           return\n",
    "       \n",
    "       posicao = 0                                          # Initialize the position to insert the value.\n",
    "       for i in range(self.ultima_posicao + 1):             # Iterate over the array.\n",
    "           posicao = i                                      # Update the position to insert the value.\n",
    "           if self.valores[i] > valor:                      # If a smaller value is found, break the loop.\n",
    "               break\n",
    "           if i == self.ultima_posicao:                     # If the end of the array is reached, set the position to insert at the end.\n",
    "               posicao = i + 1\n",
    "\n",
    "       x = self.ultima_posicao                              # Initialize a variable to shift elements.\n",
    "       while x >= posicao:                                  # Shift elements to the right to make room for the new value.\n",
    "           self.valores[x + 1] = self.valores[x]\n",
    "           x -= 1\n",
    "\n",
    "       self.valores[posicao] = valor                        # Insert the value at the calculated position.\n",
    "       self.ultima_posicao += 1                             # Increment the last position.\n",
    "\n",
    "   # O(log n)\n",
    "   # Perform a binary search for a value in the array.\n",
    "   def pesquisa_binaria(self, valor):\n",
    "       limite_inferior = 0                                 # Initialize the lower limit.\n",
    "       limite_superior = self.ultima_posicao               # Initialize the upper limit.\n",
    "\n",
    "       while True:                                                       # Repeat until the value is found or not.\n",
    "           posicao_atual = int((limite_inferior + limite_superior) / 2)  # Calculate the middle position.\n",
    "                               \n",
    "           if self.valores[posicao_atual] == valor:                      # If the value is found at the middle position, return it.\n",
    "               return posicao_atual\n",
    "           \n",
    "           elif limite_inferior > limite_superior:                       # If the value is not found, update the limits and continue searching.\n",
    "               return -1\n",
    "           else:\n",
    "               # If the value is smaller than the middle element\n",
    "                if self.valores[posicao_atual] < valor:\n",
    "                    limite_inferior = posicao_atual + 1                  # update the lower limit.\n",
    "                else:\n",
    "                    limite_superior = posicao_atual - 1                  # update the upper limit.\n",
    "                    \n",
    "   # O(n)\n",
    "   # Remove a value from the array.\n",
    "   def excluir(self, valor):\n",
    "      posicao = self.pesquisa_binaria(valor)                                   # Find the value's position.\n",
    "      if posicao == -1:                                                 # If the value is not found, do not remove anything.\n",
    "          return -1\n",
    "      else:\n",
    "          for i in range(posicao, self.ultima_posicao):                 # Shift elements to the left to fill the gap.\n",
    "              self.valores[i] = self.valores[i + 1]\n",
    "   \n",
    "          self.ultima_posicao -= 1                                      # Decrement the last position.\n",
    "\n"
   ]
  },
  {
   "cell_type": "markdown",
   "metadata": {},
   "source": [
    "# Testes"
   ]
  },
  {
   "cell_type": "code",
   "execution_count": 6,
   "metadata": {},
   "outputs": [
    {
     "name": "stdout",
     "output_type": "stream",
     "text": [
      "O vetor está vazio\n",
      "----- Insere -----\n",
      "0  -  1\n",
      "1  -  2\n",
      "2  -  4\n",
      "3  -  5\n",
      "4  -  7\n",
      "5  -  8\n",
      "6  -  9\n",
      "7  -  11\n",
      "8  -  13\n",
      "----- Pesquisa Binária -----\n"
     ]
    },
    {
     "data": {
      "text/plain": [
       "4"
      ]
     },
     "execution_count": 6,
     "metadata": {},
     "output_type": "execute_result"
    }
   ],
   "source": [
    "vetor = VetorOrdenado(10) # Create an ordered array with a capacity of 10.\n",
    "vetor.imprime()\n",
    "# -------------------------------- #\n",
    "print(5 * '-' ,'Insere' ,5 * '-')\n",
    "vetor.insere(8)\n",
    "vetor.insere(9)\n",
    "vetor.insere(4)\n",
    "vetor.insere(1)\n",
    "vetor.insere(5)\n",
    "vetor.insere(7)\n",
    "vetor.insere(11)\n",
    "vetor.insere(13)\n",
    "vetor.insere(2)\n",
    "\n",
    "vetor.imprime()\n",
    "\n",
    "\n",
    "# -------------------------------- #\n",
    "print(5 * '-' ,'Pesquisa Binária' ,5 * '-')\n",
    "vetor.pesquisa_binaria(7)\n"
   ]
  },
  {
   "cell_type": "code",
   "execution_count": 5,
   "metadata": {},
   "outputs": [
    {
     "name": "stdout",
     "output_type": "stream",
     "text": [
      "----- Excluir -----\n",
      "0  -  1\n",
      "1  -  2\n",
      "2  -  4\n",
      "3  -  5\n",
      "4  -  7\n",
      "5  -  8\n",
      "6  -  11\n",
      "7  -  13\n"
     ]
    }
   ],
   "source": [
    "# -------------------------------- #\n",
    "print(5 * '-' ,'Excluir' ,5 * '-')\n",
    "vetor.excluir(9)\n",
    "vetor.imprime()"
   ]
  }
 ],
 "metadata": {
  "kernelspec": {
   "display_name": "Python 3",
   "language": "python",
   "name": "python3"
  },
  "language_info": {
   "codemirror_mode": {
    "name": "ipython",
    "version": 3
   },
   "file_extension": ".py",
   "mimetype": "text/x-python",
   "name": "python",
   "nbconvert_exporter": "python",
   "pygments_lexer": "ipython3",
   "version": "3.9.10"
  }
 },
 "nbformat": 4,
 "nbformat_minor": 2
}
