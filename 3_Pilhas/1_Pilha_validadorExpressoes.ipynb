{
 "cells": [
  {
   "cell_type": "code",
   "execution_count": 1,
   "metadata": {},
   "outputs": [],
   "source": [
    "import numpy as np"
   ]
  },
  {
   "cell_type": "code",
   "execution_count": 2,
   "metadata": {},
   "outputs": [],
   "source": [
    "# Implementação de uma pilha (LIFO - Last In, First Out) em Python\n",
    "class Pilha:\n",
    "    def __init__(self, capacidade):\n",
    "        self.capacidade = capacidade\n",
    "        self.topo = -1\n",
    "        # Array de chars (b'(')\n",
    "        self.valores = np.chararray(self.capacidade, unicode=True)\n",
    "\n",
    "    def pilha_cheia(self):\n",
    "        if self.topo == self.capacidade - 1:\n",
    "            return True\n",
    "        else:\n",
    "            return False\n",
    "    \n",
    "    def pilha_vazia(self):\n",
    "        # Verifica se a pilha está vazia\n",
    "        if self.topo == -1:\n",
    "            return True\n",
    "        else:\n",
    "            return False  \n",
    "\n",
    "    def empilhar(self, valor):\n",
    "        # Adiciona um elemento ao topo da pilha\n",
    "        if self.pilha_cheia():\n",
    "            print('A pilha está cheia')\n",
    "        else:\n",
    "            self.topo += 1\n",
    "            self.valores[self.topo] = valor\n",
    "            \n",
    "    # Retorna o elemento desempilhado\n",
    "    def desempilhar(self):\n",
    "        # Remove e retorna o elemento do topo da pilha\n",
    "        if self.pilha_vazia():\n",
    "            print('A pilha está vazia')\n",
    "            return -1\n",
    "        else:\n",
    "            valor = self.valores[self.topo]\n",
    "            self.topo -= 1\n",
    "            return valor\n",
    "    \n",
    "    def ver_topo(self):\n",
    "        # Retorna o valor no topo da pilha sem removê-lo\n",
    "        if self.topo != -1:\n",
    "            return self.valores[self.topo]\n",
    "        else:\n",
    "            return -1\n"
   ]
  },
  {
   "cell_type": "code",
   "execution_count": 3,
   "metadata": {},
   "outputs": [],
   "source": [
    "# Exemplos para validar:\n",
    "\n",
    "# c[d]\n",
    "# a{b[c]d}e\n",
    "# a{b(c]d}e\n",
    "# a[b{c}d]e}\n",
    "# a{b(c)"
   ]
  },
  {
   "cell_type": "code",
   "execution_count": 4,
   "metadata": {},
   "outputs": [
    {
     "name": "stdout",
     "output_type": "stream",
     "text": [
      "Erro:  }  na posição  9\n"
     ]
    }
   ],
   "source": [
    "# Solicita ao usuário que digite uma expressão\n",
    "expressao = str(input('Digite uma expressão: '))\n",
    "\n",
    "# Cria uma instância da classe Pilha com base no comprimento da expressão\n",
    "pilha = Pilha(len(expressao))\n",
    "\n",
    "# Itera sobre cada caractere na expressão\n",
    "for i in range(len(expressao)):\n",
    "    ch = expressao[i]\n",
    "\n",
    "    # Se o caractere for um dos caracteres de abertura, empilha na pilha\n",
    "    if ch == '{' or ch == '[' or ch == '(':\n",
    "        pilha.empilhar(ch)\n",
    "\n",
    "    # Se o caractere for um dos caracteres de fechamento\n",
    "    elif ch == '}' or ch == ']' or ch == ')':\n",
    "        # Verifica se a pilha não está vazia\n",
    "        if not pilha.pilha_vazia():\n",
    "            # Desempilha o último caractere aberto da pilha\n",
    "            chx = str(pilha.desempilhar())\n",
    "\n",
    "            # Verifica se o caractere de fechamento corresponde ao último caractere aberto\n",
    "            if (ch == '}' and chx != '{') or (ch == ']' and chx != '[') or (ch == ')' and chx != '('):\n",
    "                print('Erro: ', ch, ' na posição ', i)\n",
    "                break\n",
    "\n",
    "        else:\n",
    "            # Se a pilha estiver vazia e encontrarmos um caractere de fechamento, há um erro\n",
    "            print('Erro: ', ch, ' na posição ', i)\n",
    "\n",
    "# Verifica se ainda há caracteres abertos na pilha após percorrer toda a expressão\n",
    "if not pilha.pilha_vazia():\n",
    "    print('Erro: expressão mal formada')\n"
   ]
  }
 ],
 "metadata": {
  "kernelspec": {
   "display_name": "Python 3",
   "language": "python",
   "name": "python3"
  },
  "language_info": {
   "codemirror_mode": {
    "name": "ipython",
    "version": 3
   },
   "file_extension": ".py",
   "mimetype": "text/x-python",
   "name": "python",
   "nbconvert_exporter": "python",
   "pygments_lexer": "ipython3",
   "version": "3.9.10"
  }
 },
 "nbformat": 4,
 "nbformat_minor": 2
}
