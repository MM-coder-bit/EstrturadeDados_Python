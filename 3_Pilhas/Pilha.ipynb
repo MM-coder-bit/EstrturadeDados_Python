{
 "cells": [
  {
   "cell_type": "code",
   "execution_count": 17,
   "metadata": {},
   "outputs": [],
   "source": [
    "import numpy as np"
   ]
  },
  {
   "cell_type": "code",
   "execution_count": 51,
   "metadata": {},
   "outputs": [],
   "source": [
    "# Implementação de uma pilha (LIFO - Last In, First Out) em Python\n",
    "class Pilha:\n",
    "    def __init__(self, capacidade):\n",
    "        # Inicializa a pilha com uma capacidade específica\n",
    "        self.__capacidade = capacidade\n",
    "        # Inicializa o topo da pilha como -1, indicando que está vazia\n",
    "        self.__topo = -1\n",
    "        # Inicializa um array para armazenar os valores da pilha\n",
    "        self.__valores = np.empty(self.__capacidade, dtype=int)\n",
    "\n",
    "    def __pilha_cheia(self):\n",
    "        # Verifica se a pilha está cheia\n",
    "        if self.__topo == self.__capacidade - 1:\n",
    "            return True\n",
    "        else:\n",
    "            return False\n",
    "    \n",
    "    def __pilha_vazia(self):\n",
    "        # Verifica se a pilha está vazia\n",
    "        if self.__topo == -1:\n",
    "            return True\n",
    "        else:\n",
    "            return False  \n",
    "\n",
    "    def empilhar(self, valor):\n",
    "        # Adiciona um elemento ao topo da pilha\n",
    "        if self.__pilha_cheia():\n",
    "            print('A pilha está cheia')\n",
    "        else:\n",
    "            self.__topo += 1\n",
    "            self.__valores[self.__topo] = valor\n",
    "\n",
    "    def desempilhar(self):\n",
    "        # Remove e retorna o elemento do topo da pilha\n",
    "        if self.__pilha_vazia():\n",
    "            print('A pilha está vazia')\n",
    "            return -1\n",
    "        else:\n",
    "            valor = self.__valores[self.__topo]\n",
    "            self.__topo -= 1\n",
    "            return valor\n",
    "    \n",
    "    def ver_topo(self):\n",
    "        # Retorna o valor no topo da pilha sem removê-lo\n",
    "        if self.__topo != -1:\n",
    "            return self.__valores[self.__topo]\n",
    "        else:\n",
    "            return -1\n"
   ]
  },
  {
   "cell_type": "code",
   "execution_count": 52,
   "metadata": {},
   "outputs": [
    {
     "name": "stdout",
     "output_type": "stream",
     "text": [
      "----- Verificando o Topo -----\n",
      "-1\n",
      "----- Topo da Pilha -----\n",
      "5\n",
      "----- Colocando elemento a mais -----\n",
      "A pilha está cheia\n",
      "----- Desempilhando -----\n",
      "4\n",
      "----- Desempilhando todos -----\n",
      "A pilha está vazia\n"
     ]
    },
    {
     "data": {
      "text/plain": [
       "-1"
      ]
     },
     "execution_count": 52,
     "metadata": {},
     "output_type": "execute_result"
    }
   ],
   "source": [
    "pilha = Pilha(5)\n",
    "\n",
    "print(5 * '-', 'Verificando o Topo',5 * '-' )\n",
    "print(pilha.ver_topo())\n",
    "\n",
    "# Empilhando os dados\n",
    "pilha.empilhar(1)\n",
    "pilha.empilhar(2)\n",
    "pilha.empilhar(3)\n",
    "pilha.empilhar(4)\n",
    "pilha.empilhar(5)\n",
    "print(5 * '-', 'Topo da Pilha',5 * '-' )\n",
    "print(pilha.ver_topo())\n",
    "\n",
    "# Gerando erro\n",
    "print(5 * '-', 'Colocando elemento a mais',5 * '-' )\n",
    "pilha.empilhar(6)\n",
    "\n",
    "# \n",
    "print(5 * '-', 'Desempilhando',5 * '-' )\n",
    "pilha.desempilhar()\n",
    "print(pilha.ver_topo())\n",
    "\n",
    "print(5 * '-', 'Desempilhando todos',5 * '-' )\n",
    "pilha.desempilhar()\n",
    "pilha.desempilhar()\n",
    "pilha.desempilhar()\n",
    "pilha.desempilhar()\n",
    "\n",
    "#  Verificando se há dados no topo\n",
    "pilha.ver_topo()\n",
    "# Vwrificando a mensagem de pilha vazia\n",
    "pilha.desempilhar()\n"
   ]
  }
 ],
 "metadata": {
  "kernelspec": {
   "display_name": "Python 3",
   "language": "python",
   "name": "python3"
  },
  "language_info": {
   "codemirror_mode": {
    "name": "ipython",
    "version": 3
   },
   "file_extension": ".py",
   "mimetype": "text/x-python",
   "name": "python",
   "nbconvert_exporter": "python",
   "pygments_lexer": "ipython3",
   "version": "3.9.10"
  }
 },
 "nbformat": 4,
 "nbformat_minor": 2
}
