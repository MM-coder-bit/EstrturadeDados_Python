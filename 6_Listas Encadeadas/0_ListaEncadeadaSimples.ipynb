{
 "cells": [
  {
   "cell_type": "code",
   "execution_count": 44,
   "metadata": {},
   "outputs": [],
   "source": [
    "import numpy as np"
   ]
  },
  {
   "cell_type": "code",
   "execution_count": 45,
   "metadata": {},
   "outputs": [],
   "source": [
    "class No:\n",
    "    def __init__(self, valor):\n",
    "        # Construtor da classe No: cria um nó com um valor específico e define o próximo nó como None.\n",
    "        self.valor = valor\n",
    "        self.proximo = None\n",
    "\n",
    "    def mostra_no(self):\n",
    "        # Método que imprime o valor do nó.\n",
    "        print(self.valor)"
   ]
  },
  {
   "cell_type": "code",
   "execution_count": 46,
   "metadata": {},
   "outputs": [],
   "source": [
    "class ListaEncadeada:\n",
    "    def __init__(self):\n",
    "        # Construtor da classe ListaEncadeada: inicializa a lista com o primeiro nó como None.\n",
    "        self.primeiro = None\n",
    "\n",
    "    def insere_inicio(self, valor):\n",
    "        # Método para inserir um novo nó no início da lista.\n",
    "        novo = No(valor)\n",
    "        novo.proximo = self.primeiro\n",
    "        self.primeiro = novo\n",
    "\n",
    "    def mostrar(self):\n",
    "        # Método para exibir todos os nós da lista encadeada.\n",
    "        if self.primeiro == None:\n",
    "            print('A lista está vazia')\n",
    "            return None\n",
    "\n",
    "        atual = self.primeiro\n",
    "        while atual != None:\n",
    "            atual.mostra_no()\n",
    "            atual = atual.proximo\n",
    "\n",
    "    def pesquisa(self, valor):\n",
    "        # Método para pesquisar um valor específico na lista encadeada.\n",
    "        if self.primeiro == None:\n",
    "            print('A lista está vazia')\n",
    "            return None\n",
    "        \n",
    "        atual = self.primeiro\n",
    "        while atual.valor != valor:\n",
    "            if atual.proximo == None:\n",
    "                # Se o valor não for encontrado, retorna None.\n",
    "                return None\n",
    "            else:\n",
    "                atual = atual.proximo\n",
    "        return atual\n",
    "\n",
    "    def excluir_inicio(self):\n",
    "        # Método para excluir o primeiro nó da lista encadeada.\n",
    "        if self.primeiro == None:\n",
    "            print('A lista está vazia')\n",
    "            return None\n",
    "        \n",
    "        temp = self.primeiro\n",
    "        self.primeiro = self.primeiro.proximo\n",
    "        return temp\n",
    "\n",
    "    def excluir_posicao(self, valor):\n",
    "        # Método para excluir o nó com um valor específico da lista encadeada.\n",
    "        if self.primeiro == None:\n",
    "            print('A lista está vazia')\n",
    "            return None\n",
    "\n",
    "        atual = self.primeiro\n",
    "        anterior = self.primeiro\n",
    "        while atual.valor != valor:\n",
    "            if atual.proximo == None:\n",
    "                # Se o valor não for encontrado, retorna None.\n",
    "                return None\n",
    "            else:\n",
    "                anterior = atual\n",
    "                atual = atual.proximo\n",
    "\n",
    "        if atual == self.primeiro:\n",
    "            # Se o nó a ser removido é o primeiro, atualiza o primeiro nó.\n",
    "            self.primeiro = self.primeiro.proximo\n",
    "        else:\n",
    "            # Se não, ajusta os ponteiros para excluir o nó desejado.\n",
    "            anterior.proximo = atual.proximo\n",
    "\n",
    "        return atual\n"
   ]
  },
  {
   "cell_type": "markdown",
   "metadata": {},
   "source": [
    "### Todo objeto tem a composição do objeto + a mémoria da posição do próximo objeto\n",
    "<img src=\"images\\Nó.png\" width=\"500\" height=\"200\">"
   ]
  },
  {
   "cell_type": "code",
   "execution_count": 90,
   "metadata": {
    "tags": []
   },
   "outputs": [
    {
     "name": "stdout",
     "output_type": "stream",
     "text": [
      "----- Insere no inicio -----\n",
      "5\n",
      "4\n",
      "3\n",
      "2\n",
      "1\n",
      "posição da memória do primeiro elemento:<__main__.No object at 0x000001FDD1BE9CA0>\n",
      "posição da memória do segundo  elemento:<__main__.No object at 0x000001FDD1BE9910>\n",
      "posição da memória do terceiro elemento:<__main__.No object at 0x000001FDD1BE9310>\n",
      "posição da memória do quarto   elemento:<__main__.No object at 0x000001FDD1C1E550>\n",
      "posição da memória do quinto   elemento:<__main__.No object at 0x000001FDD1BE9BB0>\n"
     ]
    }
   ],
   "source": [
    "print(5 * '-', 'Insere no inicio', 5 * '-')\n",
    "\n",
    "lista = ListaEncadeada()\n",
    "lista.insere_inicio(1)\n",
    "lista.insere_inicio(2)\n",
    "lista.insere_inicio(3)\n",
    "lista.insere_inicio(4)\n",
    "lista.insere_inicio(5)\n",
    "lista.mostrar()\n",
    "\n",
    "# Posição da memória dos 5 primeiros elementos\n",
    "print(f'posição da memória do primeiro elemento:{lista.primeiro}')\n",
    "print(f'posição da memória do segundo  elemento:{lista.primeiro.proximo}')\n",
    "print(f'posição da memória do terceiro elemento:{lista.primeiro.proximo.proximo}')\n",
    "print(f'posição da memória do quarto   elemento:{lista.primeiro.proximo.proximo.proximo}')\n",
    "print(f'posição da memória do quinto   elemento:{lista.primeiro.proximo.proximo.proximo.proximo}')\n"
   ]
  },
  {
   "cell_type": "code",
   "execution_count": 87,
   "metadata": {},
   "outputs": [
    {
     "name": "stdout",
     "output_type": "stream",
     "text": [
      "----- Pesquisa -----\n",
      "Encontrado: 3\n",
      "Posição Memória: <bound method No.mostra_no of <__main__.No object at 0x000001FDD1BE9DF0>>\n"
     ]
    }
   ],
   "source": [
    "print(5 * '-', 'Pesquisa', 5 * '-')\n",
    "\n",
    "pesquisa = lista.pesquisa(3)\n",
    "if pesquisa != None:\n",
    "    print('Encontrado:',      pesquisa.valor)\n",
    "    print('Posição Memória:', pesquisa.mostra_no)\n",
    "else:\n",
    "    print('Não encontrado')\n"
   ]
  },
  {
   "cell_type": "code",
   "execution_count": 88,
   "metadata": {},
   "outputs": [
    {
     "name": "stdout",
     "output_type": "stream",
     "text": [
      "----- Excluir posição -----\n",
      "----- Remove elemento 3\n",
      "5\n",
      "4\n",
      "2\n",
      "1\n",
      "----- Remove elemento 5\n",
      "4\n",
      "2\n",
      "1\n",
      "----- Remove elemento 1\n",
      "4\n",
      "2\n"
     ]
    }
   ],
   "source": [
    "print(5 * '-', 'Excluir posição', 5 * '-')\n",
    "\n",
    "print(5 * '-','Remove elemento 3')\n",
    "lista.excluir_posicao(3)\n",
    "lista.mostrar()\n",
    "\n",
    "print(5 * '-','Remove elemento 5')\n",
    "lista.excluir_posicao(5)\n",
    "lista.mostrar()\n",
    "\n",
    "print(5 * '-','Remove elemento 1')\n",
    "lista.excluir_posicao(1)\n",
    "lista.mostrar()"
   ]
  },
  {
   "cell_type": "code",
   "execution_count": 91,
   "metadata": {},
   "outputs": [
    {
     "name": "stdout",
     "output_type": "stream",
     "text": [
      "----- Excluir no inicio -----\n",
      "----- Remove elemento 5\n",
      "4\n",
      "3\n",
      "2\n",
      "1\n",
      "----- Remove elemento 4\n",
      "3\n",
      "2\n",
      "1\n",
      "----- Remove elemento 3\n",
      "2\n",
      "1\n",
      "----- Remove elemento 2\n",
      "1\n",
      "----- Remove elemento 1\n",
      "A lista está vazia\n"
     ]
    }
   ],
   "source": [
    "# Execute novamente a celula 'Insere no inicio' antes de executar  esta celula\n",
    "print(5 * '-', 'Excluir no inicio', 5 * '-')\n",
    "\n",
    "print(5 * '-','Remove elemento 5')\n",
    "lista.excluir_inicio()\n",
    "lista.mostrar()\n",
    "\n",
    "print(5 * '-','Remove elemento 4')\n",
    "lista.excluir_inicio()\n",
    "lista.mostrar()\n",
    "\n",
    "print(5 * '-','Remove elemento 3')\n",
    "lista.excluir_inicio()\n",
    "lista.mostrar()\n",
    "\n",
    "print(5 * '-','Remove elemento 2')\n",
    "lista.excluir_inicio()\n",
    "lista.mostrar()\n",
    "\n",
    "print(5 * '-','Remove elemento 1')\n",
    "lista.excluir_inicio()\n",
    "lista.mostrar()"
   ]
  },
  {
   "cell_type": "markdown",
   "metadata": {},
   "source": []
  }
 ],
 "metadata": {
  "kernelspec": {
   "display_name": "Python 3",
   "language": "python",
   "name": "python3"
  },
  "language_info": {
   "codemirror_mode": {
    "name": "ipython",
    "version": 3
   },
   "file_extension": ".py",
   "mimetype": "text/x-python",
   "name": "python",
   "nbconvert_exporter": "python",
   "pygments_lexer": "ipython3",
   "version": "3.9.10"
  }
 },
 "nbformat": 4,
 "nbformat_minor": 2
}
