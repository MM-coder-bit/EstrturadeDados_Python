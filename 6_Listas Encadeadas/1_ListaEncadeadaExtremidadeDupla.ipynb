{
 "cells": [
  {
   "cell_type": "code",
   "execution_count": 1,
   "metadata": {},
   "outputs": [],
   "source": [
    "import numpy as np"
   ]
  },
  {
   "cell_type": "code",
   "execution_count": 2,
   "metadata": {},
   "outputs": [],
   "source": [
    "class No:\n",
    "    def __init__(self, valor):\n",
    "        # Construtor da classe No: cria um nó com um valor específico e define o próximo nó como None.\n",
    "        self.valor = valor\n",
    "        self.proximo = None\n",
    "\n",
    "    def mostra_no(self):\n",
    "        # Método que imprime o valor do nó.\n",
    "        print(self.valor)"
   ]
  },
  {
   "cell_type": "code",
   "execution_count": 3,
   "metadata": {},
   "outputs": [],
   "source": [
    "class ListaEncadeadaExtremidadeDupla:\n",
    "\n",
    "    def __init__(self):\n",
    "        # Inicialização da lista encadeada com extremidades duplas.\n",
    "        self.primeiro = None  # Aponta para o primeiro nó da lista.\n",
    "        self.ultimo = None    # Aponta para o último nó da lista.\n",
    "\n",
    "    def __lista_vazia(self):\n",
    "        # Método privado para verificar se a lista está vazia.\n",
    "        return self.primeiro == None\n",
    "\n",
    "    def insere_inicio(self, valor):\n",
    "        # Método para inserir um novo nó no início da lista.\n",
    "        novo = No(valor)\n",
    "        if self.__lista_vazia():\n",
    "            # Se a lista estiver vazia, o primeiro e o último apontam para o novo nó.\n",
    "            self.ultimo = novo\n",
    "        novo.proximo = self.primeiro\n",
    "        self.primeiro = novo\n",
    "\n",
    "    def insere_final(self, valor):\n",
    "        # Método para inserir um novo nó no final da lista.\n",
    "        novo = No(valor)\n",
    "        if self.__lista_vazia():\n",
    "            # Se a lista estiver vazia, o primeiro e o último apontam para o novo nó.\n",
    "            self.primeiro = novo\n",
    "        else:\n",
    "            # Caso contrário, o próximo do último nó aponta para o novo nó.\n",
    "            self.ultimo.proximo = novo\n",
    "        self.ultimo = novo\n",
    "\n",
    "    def excluir_inicio(self):\n",
    "        # Método para excluir o primeiro nó da lista.\n",
    "        if self.__lista_vazia():\n",
    "            print('A lista está vazia')\n",
    "            return\n",
    "\n",
    "        temp = self.primeiro\n",
    "        if self.primeiro.proximo == None:\n",
    "            # Se há apenas um nó na lista, atualiza também o último para None.\n",
    "            self.ultimo = None\n",
    "        self.primeiro = self.primeiro.proximo\n",
    "        return temp\n",
    "\n",
    "    def mostrar(self):\n",
    "        # Método para mostrar todos os nós da lista.\n",
    "        if self.__lista_vazia():\n",
    "            print('A lista está vazia')\n",
    "            return\n",
    "        atual = self.primeiro\n",
    "        while atual != None:\n",
    "            # Chama o método mostra_no() de cada nó.\n",
    "            atual.mostra_no()\n",
    "            atual = atual.proximo\n"
   ]
  },
  {
   "cell_type": "code",
   "execution_count": 32,
   "metadata": {},
   "outputs": [
    {
     "name": "stdout",
     "output_type": "stream",
     "text": [
      "----- Inserindo um elemento no inicio -----\n",
      "1\n",
      "posição da memória do primeiro elemento:<__main__.No object at 0x000001681A8B05E0>\n",
      " e do Ultimo:<__main__.No object at 0x000001681A8B05E0>\n",
      "\n",
      "----- Inserindo mais de um elemento no inicio -----\n",
      "5\n",
      "4\n",
      "3\n",
      "2\n",
      "1\n",
      "posição da memória do primeiro elemento:<__main__.No object at 0x000001680B2FCA90>\n",
      " e do Ultimo:<__main__.No object at 0x000001681A8B05E0>\n",
      "\n"
     ]
    }
   ],
   "source": [
    "print(5 * '-', 'Inserindo um elemento no inicio', 5 * '-')\n",
    "\n",
    "lista = ListaEncadeadaExtremidadeDupla()\n",
    "lista.insere_inicio(1)\n",
    "lista.mostrar()\n",
    "# validando que no começo os 'primeiro' e 'ultimo' estão no mesmo ponteiro de memória\n",
    "print(f'posição da memória do primeiro elemento:{lista.primeiro}\\n e do Ultimo:{lista.ultimo}\\n')\n",
    "\n",
    "print(5 * '-', 'Inserindo mais de um elemento no inicio', 5 * '-')\n",
    "lista.insere_inicio(2)\n",
    "lista.insere_inicio(3)\n",
    "lista.insere_inicio(4)\n",
    "lista.insere_inicio(5)\n",
    "lista.mostrar()\n",
    "print(f'posição da memória do primeiro elemento:{lista.primeiro}\\n e do Ultimo:{lista.ultimo}\\n')"
   ]
  },
  {
   "cell_type": "code",
   "execution_count": 33,
   "metadata": {},
   "outputs": [
    {
     "name": "stdout",
     "output_type": "stream",
     "text": [
      "----- Inserindo mais de um elemento no final -----\n",
      "5\n",
      "4\n",
      "3\n",
      "2\n",
      "1\n",
      "10\n",
      "11\n",
      "12\n",
      "13\n",
      "14\n",
      "posição da memória do primeiro elemento:<__main__.No object at 0x000001680B2FCA90>\n",
      " e do Ultimo:<__main__.No object at 0x000001681A8B01C0>\n",
      "\n"
     ]
    }
   ],
   "source": [
    "print(5 * '-', 'Inserindo mais de um elemento no final', 5 * '-')\n",
    "lista.insere_final(10)\n",
    "lista.insere_final(11)\n",
    "lista.insere_final(12)\n",
    "lista.insere_final(13)\n",
    "lista.insere_final(14)\n",
    "lista.mostrar()\n",
    "print(f'posição da memória do primeiro elemento:{lista.primeiro}\\n e do Ultimo:{lista.ultimo}\\n')"
   ]
  },
  {
   "cell_type": "code",
   "execution_count": 38,
   "metadata": {},
   "outputs": [
    {
     "name": "stdout",
     "output_type": "stream",
     "text": [
      "----- Excluindo elementos do inicio -----\n",
      "----- Antes -----\n",
      "2\n",
      "1\n",
      "10\n",
      "11\n",
      "12\n",
      "13\n",
      "14\n",
      "----- Depois -----\n",
      "1\n",
      "10\n",
      "11\n",
      "12\n",
      "13\n",
      "14\n"
     ]
    }
   ],
   "source": [
    "print(5 * '-', 'Excluindo elementos do inicio', 5 * '-')\n",
    "\n",
    "print(5 * '-','Antes',5 * '-')\n",
    "lista.mostrar()\n",
    "\n",
    "lista.excluir_inicio()\n",
    "\n",
    "print(5 * '-','Depois',5 * '-')\n",
    "lista.mostrar()"
   ]
  }
 ],
 "metadata": {
  "kernelspec": {
   "display_name": "Python 3",
   "language": "python",
   "name": "python3"
  },
  "language_info": {
   "codemirror_mode": {
    "name": "ipython",
    "version": 3
   },
   "file_extension": ".py",
   "mimetype": "text/x-python",
   "name": "python",
   "nbconvert_exporter": "python",
   "pygments_lexer": "ipython3",
   "version": "3.9.10"
  }
 },
 "nbformat": 4,
 "nbformat_minor": 2
}
