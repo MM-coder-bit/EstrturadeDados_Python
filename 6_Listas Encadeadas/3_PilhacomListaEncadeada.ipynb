{
 "cells": [
  {
   "cell_type": "code",
   "execution_count": 1,
   "metadata": {},
   "outputs": [],
   "source": [
    "class No:\n",
    "  def __init__(self, valor):\n",
    "    # O método de inicialização (__init__) é chamado quando um novo objeto No é criado.\n",
    "    # Ele recebe um parâmetro 'valor' e inicializa os atributos do nó.\n",
    "    self.valor = valor    # Valor armazenado no nó.\n",
    "    self.proximo = None   # Referência para o próximo nó na sequência.\n",
    "\n",
    "  def mostra_no(self):\n",
    "    # Método para mostrar o valor do nó.\n",
    "    print(self.valor)\n"
   ]
  },
  {
   "cell_type": "code",
   "execution_count": 2,
   "metadata": {},
   "outputs": [],
   "source": [
    "class ListaEncadeada:\n",
    "\n",
    "  def __init__(self):\n",
    "    # O método de inicialização (__init__) é chamado quando um novo objeto ListaEncadeada é criado.\n",
    "    # Inicializa o atributo 'primeiro' como None, indicando que a lista está vazia.\n",
    "    self.primeiro = None\n",
    "\n",
    "  def lista_vazia(self):\n",
    "    # Método para verificar se a lista está vazia.\n",
    "    # Retorna True se 'primeiro' for None, indicando que a lista está vazia, senão, retorna False.\n",
    "    return self.primeiro == None\n",
    "  \n",
    "  def insere_inicio(self, valor):\n",
    "    # Método para inserir um novo nó no início da lista.\n",
    "    novo = No(valor)        # Cria um novo nó com o valor fornecido.\n",
    "    novo.proximo = self.primeiro   # O próximo do novo nó aponta para o antigo primeiro nó.\n",
    "    self.primeiro = novo    # Atualiza o 'primeiro' para o novo nó.\n",
    "\n",
    "  def excluir_inicio(self):\n",
    "    # Método para excluir o primeiro nó da lista.\n",
    "    if self.lista_vazia():\n",
    "      # Se a lista estiver vazia, imprime uma mensagem e retorna None.\n",
    "      print('A lista está vazia')\n",
    "      return None\n",
    "    \n",
    "    temp = self.primeiro    # Armazena temporariamente o primeiro nó.\n",
    "    self.primeiro = self.primeiro.proximo   # Atualiza o 'primeiro' para o próximo nó.\n",
    "    return temp    # Retorna o nó removido.\n"
   ]
  },
  {
   "cell_type": "code",
   "execution_count": 3,
   "metadata": {},
   "outputs": [],
   "source": [
    "class PilhaListaEncadeada:\n",
    "  def __init__(self):\n",
    "    # O método de inicialização (__init__) é chamado quando um novo objeto PilhaListaEncadeada é criado.\n",
    "    # Cria uma instância da ListaEncadeada para ser usada como base da pilha.\n",
    "    self.lista = ListaEncadeada()\n",
    "\n",
    "  def empilhar(self, valor):\n",
    "    # Método para empilhar um valor na pilha.\n",
    "    # Chama o método insere_inicio da ListaEncadeada para adicionar um novo nó no início da lista.\n",
    "    self.lista.insere_inicio(valor)\n",
    "\n",
    "  def desempilhar(self):\n",
    "    # Método para desempilhar um valor da pilha.\n",
    "    # Chama o método excluir_inicio da ListaEncadeada para remover o primeiro nó da lista.\n",
    "    return self.lista.excluir_inicio()\n",
    "\n",
    "  def pilha_vazia(self):\n",
    "    # Método para verificar se a pilha está vazia.\n",
    "    # Chama o método lista_vazia da ListaEncadeada para verificar se a lista está vazia.\n",
    "    return self.lista.lista_vazia()\n",
    "\n",
    "  def ver_topo(self):\n",
    "    # Método para obter o valor no topo da pilha.\n",
    "    # Retorna -1 se a pilha estiver vazia, caso contrário, retorna o valor do primeiro nó.\n",
    "    if self.lista.primeiro == None:\n",
    "      return -1\n",
    "    return self.lista.primeiro.valor\n"
   ]
  },
  {
   "cell_type": "code",
   "execution_count": 4,
   "metadata": {},
   "outputs": [
    {
     "name": "stdout",
     "output_type": "stream",
     "text": [
      "----- Empilhando e vendo o topo -----\n",
      "----- Primeiro empilhamento -----\n",
      "20\n",
      "----- Segundo empilhamento -----\n",
      "40\n"
     ]
    }
   ],
   "source": [
    "print(5 * '-', 'Empilhando e vendo o topo', 5 * '-')\n",
    "pilha = PilhaListaEncadeada()\n",
    "\n",
    "print(5 * '-', 'Primeiro empilhamento', 5 * '-')\n",
    "pilha.empilhar(10)\n",
    "pilha.empilhar(20)\n",
    "#topo\n",
    "print(pilha.ver_topo())\n",
    "\n",
    "print(5 * '-', 'Segundo empilhamento', 5 * '-')\n",
    "pilha.empilhar(30)\n",
    "pilha.empilhar(40)\n",
    "#topo\n",
    "print(pilha.ver_topo())"
   ]
  },
  {
   "cell_type": "code",
   "execution_count": 5,
   "metadata": {},
   "outputs": [
    {
     "name": "stdout",
     "output_type": "stream",
     "text": [
      "----- Desempilhando -----\n",
      "----- Antes\n",
      "40\n",
      "----- Depois\n",
      "ponteiro de memória: <__main__.No object at 0x0000013B37A3B520>\n",
      "30\n"
     ]
    }
   ],
   "source": [
    "print(5 * '-', 'Desempilhando', 5 * '-')\n",
    "\n",
    "print(5 * '-', 'Antes')\n",
    "print(pilha.ver_topo())\n",
    "\n",
    "print(5 * '-', 'Depois')\n",
    "print('ponteiro de memória:',pilha.desempilhar())\n",
    "print(pilha.ver_topo())"
   ]
  }
 ],
 "metadata": {
  "kernelspec": {
   "display_name": "Python 3",
   "language": "python",
   "name": "python3"
  },
  "language_info": {
   "codemirror_mode": {
    "name": "ipython",
    "version": 3
   },
   "file_extension": ".py",
   "mimetype": "text/x-python",
   "name": "python",
   "nbconvert_exporter": "python",
   "pygments_lexer": "ipython3",
   "version": "3.9.10"
  }
 },
 "nbformat": 4,
 "nbformat_minor": 2
}
