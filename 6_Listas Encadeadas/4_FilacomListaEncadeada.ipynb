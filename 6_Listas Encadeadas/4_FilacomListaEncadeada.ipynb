{
 "cells": [
  {
   "cell_type": "code",
   "execution_count": 1,
   "metadata": {},
   "outputs": [],
   "source": [
    "class No:\n",
    "  def __init__(self, valor):\n",
    "    # O método de inicialização (__init__) é chamado quando um novo objeto No é criado.\n",
    "    # Recebe um parâmetro 'valor' e inicializa os atributos do nó.\n",
    "    self.valor = valor    # Valor armazenado no nó.\n",
    "    self.proximo = None   # Referência para o próximo nó na sequência.\n",
    "\n",
    "  def mostra_no(self):\n",
    "    # Método para mostrar o valor do nó.\n",
    "    print(self.valor)\n"
   ]
  },
  {
   "cell_type": "code",
   "execution_count": 2,
   "metadata": {},
   "outputs": [],
   "source": [
    "class ListaEncadeadaExtremidadeDupla:\n",
    "\n",
    "  def __init__(self):\n",
    "    # O método de inicialização (__init__) é chamado quando um novo objeto ListaEncadeadaExtremidadeDupla é criado.\n",
    "    # Inicializa os atributos 'primeiro' e 'ultimo' como None, indicando que a lista está vazia.\n",
    "    self.primeiro = None\n",
    "    self.ultimo = None\n",
    "  \n",
    "  def __lista_vazia(self):\n",
    "    # Método privado para verificar se a lista está vazia.\n",
    "    # Retorna True se 'primeiro' for None, indicando que a lista está vazia, senão, retorna False.\n",
    "    return self.primeiro == None\n",
    "\n",
    "  def insere_final(self, valor):\n",
    "    # Método para inserir um novo nó no final da lista.\n",
    "    novo = No(valor)    # Cria um novo nó com o valor fornecido.\n",
    "    if self.__lista_vazia():\n",
    "      self.primeiro = novo\n",
    "    else:\n",
    "      self.ultimo.proximo = novo\n",
    "    self.ultimo = novo   # Atualiza o 'ultimo' para o novo nó.\n",
    "  \n",
    "  def excluir_inicio(self):\n",
    "    # Método para excluir o primeiro nó da lista.\n",
    "    if self.__lista_vazia():\n",
    "      # Se a lista estiver vazia, imprime uma mensagem e retorna None.\n",
    "      print('A lista está vazia')\n",
    "      return\n",
    "    temp = self.primeiro   # Armazena temporariamente o primeiro nó.\n",
    "    if self.primeiro.proximo == None:\n",
    "      self.ultimo = None   # Se há apenas um nó, atualiza 'ultimo' para None.\n",
    "    self.primeiro = self.primeiro.proximo   # Atualiza o 'primeiro' para o próximo nó.\n",
    "    return temp   # Retorna o nó removido.\n"
   ]
  },
  {
   "cell_type": "code",
   "execution_count": 3,
   "metadata": {},
   "outputs": [],
   "source": [
    "class FilaListaEncadeada:\n",
    "  def __init__(self):\n",
    "    # O método de inicialização (__init__) é chamado quando um novo objeto FilaListaEncadeada é criado.\n",
    "    # Cria uma instância da ListaEncadeadaExtremidadeDupla para ser usada como base da fila.\n",
    "    self.lista = ListaEncadeadaExtremidadeDupla()\n",
    "\n",
    "  def fila_vazia(self):\n",
    "    # Método para verificar se a fila está vazia.\n",
    "    # Chama o método lista_vazia da ListaEncadeadaExtremidadeDupla para verificar se a lista está vazia.\n",
    "    return self.lista.lista_vazia()\n",
    "  \n",
    "  def enfileirar(self, valor):\n",
    "    # Método para enfileirar (inserir) um valor na fila.\n",
    "    # Chama o método insere_final da ListaEncadeadaExtremidadeDupla para adicionar um novo nó no final da lista.\n",
    "    self.lista.insere_final(valor)\n",
    "\n",
    "  def desenfileirar(self):\n",
    "    # Método para desenfileirar (remover) um valor da fila.\n",
    "    # Chama o método excluir_inicio da ListaEncadeadaExtremidadeDupla para remover o primeiro nó da lista.\n",
    "    return self.lista.excluir_inicio()\n",
    "\n",
    "  def ver_inicio(self):\n",
    "    # Método para obter o valor no início da fila.\n",
    "    # Retorna -1 se a fila estiver vazia; caso contrário, retorna o valor do primeiro nó na lista (o início da fila).\n",
    "    if self.lista.primeiro == None:\n",
    "      return -1\n",
    "    return self.lista.primeiro.valor\n"
   ]
  },
  {
   "cell_type": "code",
   "execution_count": 14,
   "metadata": {},
   "outputs": [
    {
     "name": "stdout",
     "output_type": "stream",
     "text": [
      "----- Emfileirando -----\n"
     ]
    },
    {
     "data": {
      "text/plain": [
       "10"
      ]
     },
     "execution_count": 14,
     "metadata": {},
     "output_type": "execute_result"
    }
   ],
   "source": [
    "fila = FilaListaEncadeada()\n",
    "\n",
    "print(5 * '-', 'Emfileirando', 5 * '-')\n",
    "\n",
    "fila.enfileirar(10)\n",
    "fila.enfileirar(20)\n",
    "fila.enfileirar(30)\n",
    "fila.enfileirar(40)\n",
    "fila.enfileirar(50)\n",
    "\n",
    "fila.ver_inicio()"
   ]
  },
  {
   "cell_type": "code",
   "execution_count": 15,
   "metadata": {},
   "outputs": [
    {
     "name": "stdout",
     "output_type": "stream",
     "text": [
      "----- Desinfileirando -----\n"
     ]
    },
    {
     "data": {
      "text/plain": [
       "20"
      ]
     },
     "execution_count": 15,
     "metadata": {},
     "output_type": "execute_result"
    }
   ],
   "source": [
    "print(5 * '-', 'Desinfileirando', 5 * '-')\n",
    "\n",
    "fila.desenfileirar()\n",
    "fila.ver_inicio()"
   ]
  }
 ],
 "metadata": {
  "kernelspec": {
   "display_name": "Python 3",
   "language": "python",
   "name": "python3"
  },
  "language_info": {
   "codemirror_mode": {
    "name": "ipython",
    "version": 3
   },
   "file_extension": ".py",
   "mimetype": "text/x-python",
   "name": "python",
   "nbconvert_exporter": "python",
   "pygments_lexer": "ipython3",
   "version": "3.9.10"
  }
 },
 "nbformat": 4,
 "nbformat_minor": 2
}
