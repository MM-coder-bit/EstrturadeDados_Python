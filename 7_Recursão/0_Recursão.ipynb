{
 "cells": [
  {
   "cell_type": "markdown",
   "metadata": {},
   "source": [
    "# Exemplos Simples"
   ]
  },
  {
   "cell_type": "code",
   "execution_count": 24,
   "metadata": {},
   "outputs": [
    {
     "name": "stdout",
     "output_type": "stream",
     "text": [
      "for loop\n",
      "for loop\n",
      "for loop\n",
      "for loop\n",
      "for loop\n"
     ]
    }
   ],
   "source": [
    "# O loop for será executado cinco vezes, pois range(5) gera uma sequência de números de 0 a 4.\n",
    "for _ in range(5):\n",
    "    # A instrução print('for loop') será executada a cada iteração do loop, resultando em cinco mensagens 'for loop'.\n",
    "    print('for loop')\n"
   ]
  },
  {
   "cell_type": "code",
   "execution_count": 25,
   "metadata": {},
   "outputs": [
    {
     "name": "stdout",
     "output_type": "stream",
     "text": [
      "recursão\n",
      "recursão\n",
      "recursão\n",
      "recursão\n",
      "recursão\n"
     ]
    }
   ],
   "source": [
    "# Função recursiva que utiliza uma pilha de chamadas para realizar iterações.\n",
    "def recursao(i):\n",
    "    # Imprime 'recursão' a cada chamada da função.\n",
    "    print('recursão')\n",
    "    # Incrementa o valor de i.\n",
    "    i += 1\n",
    "    # Verifica se i atingiu o valor desejado (5) para encerrar a recursão.\n",
    "    if i == 5:\n",
    "        return\n",
    "    else:\n",
    "        # Chama recursivamente a função com o novo valor de i.\n",
    "        recursao(i)\n",
    "# Inicializa a recursão chamando a função com o valor inicial de i (0).\n",
    "recursao(0)\n"
   ]
  },
  {
   "cell_type": "markdown",
   "metadata": {},
   "source": [
    "# Somar valores"
   ]
  },
  {
   "cell_type": "code",
   "execution_count": 26,
   "metadata": {},
   "outputs": [],
   "source": [
    "# Definição da função soma1 que calcula a soma dos números de 0 até n.\n",
    "def soma1(n):\n",
    "    # Inicializa uma variável 'soma' para armazenar o resultado da soma.\n",
    "    soma = 0\n",
    "    # Loop for que itera sobre os números de 0 até n.\n",
    "    for i in range(n + 1):\n",
    "        # Adiciona cada número à variável 'soma'.\n",
    "        soma += i\n",
    "    # Retorna o resultado final da soma.\n",
    "    return soma\n"
   ]
  },
  {
   "cell_type": "code",
   "execution_count": 27,
   "metadata": {},
   "outputs": [
    {
     "data": {
      "text/plain": [
       "15"
      ]
     },
     "execution_count": 27,
     "metadata": {},
     "output_type": "execute_result"
    }
   ],
   "source": [
    "# Chamada da função soma1 com o argumento 5.\n",
    "soma1(5)"
   ]
  },
  {
   "cell_type": "code",
   "execution_count": 28,
   "metadata": {},
   "outputs": [],
   "source": [
    "# Definição da função soma2 que calcula a soma dos números de 0 até n de forma recursiva.\n",
    "def soma2(n):\n",
    "    # Caso base: Se n for igual a 0, a soma é 0.\n",
    "    if n == 0:\n",
    "        return 0\n",
    "    # Caso recursivo: Retorna a soma de n e a chamada recursiva de soma2 com n-1.\n",
    "    return (n + soma2(n-1))\n"
   ]
  },
  {
   "cell_type": "code",
   "execution_count": 29,
   "metadata": {},
   "outputs": [
    {
     "data": {
      "text/plain": [
       "15"
      ]
     },
     "execution_count": 29,
     "metadata": {},
     "output_type": "execute_result"
    }
   ],
   "source": [
    "# Chamada da função soma2 com o argumento 5.\n",
    "soma2(5)"
   ]
  },
  {
   "cell_type": "markdown",
   "metadata": {},
   "source": [
    "# Analise de desempenho"
   ]
  },
  {
   "cell_type": "code",
   "execution_count": 32,
   "metadata": {},
   "outputs": [
    {
     "name": "stdout",
     "output_type": "stream",
     "text": [
      "3.09 µs ± 414 ns per loop (mean ± std. dev. of 7 runs, 100,000 loops each)\n"
     ]
    }
   ],
   "source": [
    "# %timeit é um comando no ambiente IPython usado para medir o tempo de execução de uma expressão.\n",
    "# Ele executa a expressão várias vezes e calcula a média do tempo de execução.\n",
    "\n",
    "# Mede o tempo de execução da função soma1(100).\n",
    "%timeit soma1(100)\n"
   ]
  },
  {
   "cell_type": "code",
   "execution_count": 31,
   "metadata": {},
   "outputs": [
    {
     "name": "stdout",
     "output_type": "stream",
     "text": [
      "10.2 µs ± 810 ns per loop (mean ± std. dev. of 7 runs, 100,000 loops each)\n"
     ]
    }
   ],
   "source": [
    "# %timeit é um comando no ambiente IPython usado para medir o tempo de execução de uma expressão.\n",
    "# Ele executa a expressão várias vezes e calcula a média do tempo de execução.\n",
    "\n",
    "# Mede o tempo de execução da função soma2(100).\n",
    "%timeit soma2(100)\n"
   ]
  },
  {
   "cell_type": "markdown",
   "metadata": {},
   "source": [
    "## Fatorial\n",
    "\n",
    "O fatorial de um número inteiro m não negativo, é indicado por m! (lê-se \"m fatorial\") e é definido pela relação:\n",
    "\n",
    "m!=m⋅(m−1)⋅(m−2)⋅(m−3)...3⋅2⋅1, para m ≥ 2.\n",
    "\n",
    "Algumas definições são:\n",
    "\n",
    "- 1! = 1 (fatorial de 1) - critério de parada\n",
    "- 0! = 1 (fatorial de 0)\n",
    "\n",
    "Exemplos:\n",
    "\n",
    "- 3! = 3 . 2 . 1 = 6\n",
    "- 4! = 4 . 3 . 2 . 1 = 24\n",
    "- 6! = 6 . 5 . 4 . 3 . 2 . 1 = 720\n",
    "\n",
    "Fonte: https://www.infoescola.com/matematica/fatorial/"
   ]
  },
  {
   "cell_type": "code",
   "execution_count": 33,
   "metadata": {},
   "outputs": [],
   "source": [
    "# Definição da função fatorial que calcula o fatorial de um número de forma recursiva.\n",
    "def fatorial(n):\n",
    "    # Caso base: Se n for igual a 0, o fatorial é 1.\n",
    "    if n == 0:\n",
    "        return 1\n",
    "    # Caso recursivo: Retorna o produto de n e a chamada recursiva de fatorial com n-1.\n",
    "    return n * fatorial(n - 1)\n"
   ]
  },
  {
   "cell_type": "code",
   "execution_count": 34,
   "metadata": {},
   "outputs": [
    {
     "name": "stdout",
     "output_type": "stream",
     "text": [
      "Fatorial de 3! = 6\n",
      "Fatorial de 4! = 24\n",
      "Fatorial de 6! = 720\n",
      "Fatorial de 6! = 479001600\n",
      "Fatorial de 6! = 1124000727777607680000\n"
     ]
    }
   ],
   "source": [
    "print(f'Fatorial de 3! = {fatorial(3)}')\n",
    "print(f'Fatorial de 4! = {fatorial(4)}')\n",
    "print(f'Fatorial de 6! = {fatorial(6)}')\n",
    "print(f'Fatorial de 6! = {fatorial(12)}')\n",
    "print(f'Fatorial de 6! = {fatorial(22)}')"
   ]
  },
  {
   "cell_type": "markdown",
   "metadata": {},
   "source": [
    "## Exponenciação\n",
    "\n",
    "Crie uma função recursiva que calcule o valor de a (base) elevado a b (expoente)\n",
    "\n",
    "- Se o expoente for zero, a potência é igual 1 (critério de parada)\n",
    "- Não considere exponenciação de números negativos"
   ]
  },
  {
   "cell_type": "code",
   "execution_count": 35,
   "metadata": {},
   "outputs": [],
   "source": [
    "# Definição da função potencia que calcula a potência de um número de forma recursiva.\n",
    "def potencia(base, expoente):\n",
    "    # Caso base: Se o expoente for igual a 0, a potência é 1.\n",
    "    if expoente == 0:\n",
    "        return 1\n",
    "    # Caso recursivo: Retorna o produto da base e a chamada recursiva de potencia com expoente-1.\n",
    "    return base * potencia(base, expoente - 1)\n"
   ]
  },
  {
   "cell_type": "code",
   "execution_count": 36,
   "metadata": {},
   "outputs": [
    {
     "name": "stdout",
     "output_type": "stream",
     "text": [
      "Exponencial de 2¹ =  2\n",
      "Exponencial de 2² =  4\n",
      "Exponencial de 2³ =  8\n",
      "Exponencial de 2^4 = 16\n",
      "Exponencial de 2^5 = 32\n",
      "Exponencial de 2^6 = 64\n"
     ]
    }
   ],
   "source": [
    "print(f'Exponencial de 2¹ =  {potencia(2, 1)}')\n",
    "print(f'Exponencial de 2² =  {potencia(2, 2)}')\n",
    "print(f'Exponencial de 2³ =  {potencia(2, 3)}')\n",
    "print(f'Exponencial de 2^4 = {potencia(2, 4)}')\n",
    "print(f'Exponencial de 2^5 = {potencia(2, 5)}')\n",
    "print(f'Exponencial de 2^6 = {potencia(2, 6)}')"
   ]
  },
  {
   "cell_type": "markdown",
   "metadata": {},
   "source": [
    "# Desempenho das funções"
   ]
  },
  {
   "cell_type": "code",
   "execution_count": 38,
   "metadata": {},
   "outputs": [
    {
     "name": "stdout",
     "output_type": "stream",
     "text": [
      "2.64 µs ± 417 ns per loop (mean ± std. dev. of 7 runs, 100,000 loops each)\n"
     ]
    }
   ],
   "source": [
    "# %timeit é um comando no ambiente IPython usado para medir o tempo de execução de uma expressão.\n",
    "# Ele executa a expressão várias vezes e calcula a média do tempo de execução.\n",
    "\n",
    "# Mede o tempo de execução da função fatorial(22).\n",
    "%timeit fatorial(22)"
   ]
  },
  {
   "cell_type": "code",
   "execution_count": 37,
   "metadata": {},
   "outputs": [
    {
     "name": "stdout",
     "output_type": "stream",
     "text": [
      "2.72 µs ± 782 ns per loop (mean ± std. dev. of 7 runs, 100,000 loops each)\n"
     ]
    }
   ],
   "source": [
    "# %timeit é um comando no ambiente IPython usado para medir o tempo de execução de uma expressão.\n",
    "# Ele executa a expressão várias vezes e calcula a média do tempo de execução.\n",
    "\n",
    "# Mede o tempo de execução da função potencia(2, 22).\n",
    "%timeit potencia(2, 22)"
   ]
  }
 ],
 "metadata": {
  "kernelspec": {
   "display_name": "Python 3",
   "language": "python",
   "name": "python3"
  },
  "language_info": {
   "codemirror_mode": {
    "name": "ipython",
    "version": 3
   },
   "file_extension": ".py",
   "mimetype": "text/x-python",
   "name": "python",
   "nbconvert_exporter": "python",
   "pygments_lexer": "ipython3",
   "version": "3.9.10"
  }
 },
 "nbformat": 4,
 "nbformat_minor": 2
}
