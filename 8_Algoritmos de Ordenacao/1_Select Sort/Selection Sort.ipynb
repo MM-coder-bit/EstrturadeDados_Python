{
 "cells": [
  {
   "cell_type": "code",
   "execution_count": 1,
   "metadata": {},
   "outputs": [],
   "source": [
    "import numpy as np"
   ]
  },
  {
   "cell_type": "code",
   "execution_count": 2,
   "metadata": {},
   "outputs": [],
   "source": [
    "# Definição da função selection_sort que ordena um vetor usando o algoritmo Selection Sort.\n",
    "def selection_sort(vetor):\n",
    "    # Obtém o tamanho do vetor.\n",
    "    n = len(vetor)\n",
    "    \n",
    "    # Loop externo: percorre todo o vetor.\n",
    "    for i in range(n):\n",
    "        # Inicializa o índice do menor elemento como o índice atual.\n",
    "        id_minimo = i\n",
    "\n",
    "        # Loop interno: percorre o vetor a partir do próximo elemento.\n",
    "        for j in range(i + 1, n):\n",
    "            # Verifica se o elemento atual é menor que o menor elemento encontrado até agora.\n",
    "            if vetor[id_minimo] > vetor[j]:\n",
    "                # Atualiza o índice do menor elemento.\n",
    "                id_minimo = j\n",
    "\n",
    "        # Troca o elemento atual com o menor elemento encontrado.\n",
    "        temp = vetor[i]\n",
    "        vetor[i] = vetor[id_minimo]\n",
    "        vetor[id_minimo] = temp\n",
    "\n",
    "    # Retorna o vetor ordenado.\n",
    "    return vetor\n"
   ]
  },
  {
   "cell_type": "code",
   "execution_count": 4,
   "metadata": {},
   "outputs": [
    {
     "data": {
      "text/plain": [
       "array([ 3,  8, 15, 34])"
      ]
     },
     "execution_count": 4,
     "metadata": {},
     "output_type": "execute_result"
    }
   ],
   "source": [
    "# Cria um array NumPy para ordenar.\n",
    "selection_sort(np.array([15, 34, 8, 3]))"
   ]
  },
  {
   "cell_type": "code",
   "execution_count": 5,
   "metadata": {},
   "outputs": [
    {
     "data": {
      "text/plain": [
       "array([ 1,  2,  3,  4,  5,  6,  7,  8,  9, 10])"
      ]
     },
     "execution_count": 5,
     "metadata": {},
     "output_type": "execute_result"
    }
   ],
   "source": [
    "# Cria um array NumPy para ordenar.\n",
    "selection_sort(np.array([10, 9, 8, 7, 6, 5, 4, 3, 2, 1]))"
   ]
  }
 ],
 "metadata": {
  "kernelspec": {
   "display_name": "Python 3",
   "language": "python",
   "name": "python3"
  },
  "language_info": {
   "codemirror_mode": {
    "name": "ipython",
    "version": 3
   },
   "file_extension": ".py",
   "mimetype": "text/x-python",
   "name": "python",
   "nbconvert_exporter": "python",
   "pygments_lexer": "ipython3",
   "version": "3.9.10"
  }
 },
 "nbformat": 4,
 "nbformat_minor": 2
}
