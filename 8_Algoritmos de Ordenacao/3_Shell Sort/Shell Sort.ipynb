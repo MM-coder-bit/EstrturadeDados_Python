{
 "cells": [
  {
   "cell_type": "code",
   "execution_count": 1,
   "metadata": {},
   "outputs": [],
   "source": [
    "import numpy as np"
   ]
  },
  {
   "cell_type": "code",
   "execution_count": 2,
   "metadata": {},
   "outputs": [],
   "source": [
    "# Definição da função shell_sort que ordena um vetor usando o algoritmo Shell Sort.\n",
    "def shell_sort(vetor):\n",
    "    # Define o intervalo inicial como metade do tamanho do vetor.\n",
    "    intervalo = len(vetor) // 2\n",
    "\n",
    "    # Loop externo: continua enquanto o intervalo é maior que zero.\n",
    "    while intervalo > 0:\n",
    "        # Loop interno: percorre o vetor a partir do intervalo até o final.\n",
    "        for i in range(intervalo, len(vetor)):\n",
    "            # Armazena temporariamente o elemento atual.\n",
    "            temp = vetor[i]\n",
    "            j = i\n",
    "\n",
    "            # Loop interno: move os elementos maiores que o temporário para a direita.\n",
    "            while j >= intervalo and vetor[j - intervalo] > temp:\n",
    "                vetor[j] = vetor[j - intervalo]\n",
    "                j -= intervalo\n",
    "\n",
    "            # Coloca o elemento temporário na posição correta.\n",
    "            vetor[j] = temp\n",
    "\n",
    "        # Reduz o intervalo pela metade.\n",
    "        intervalo //= 2\n",
    "\n",
    "    # Retorna o vetor ordenado.\n",
    "    return vetor\n"
   ]
  },
  {
   "cell_type": "code",
   "execution_count": 4,
   "metadata": {},
   "outputs": [
    {
     "data": {
      "text/plain": [
       "array([ 3,  8, 15, 34])"
      ]
     },
     "execution_count": 4,
     "metadata": {},
     "output_type": "execute_result"
    }
   ],
   "source": [
    "# Cria um array NumPy para ordenar.\n",
    "shell_sort(np.array([15, 34, 8, 3]))"
   ]
  },
  {
   "cell_type": "code",
   "execution_count": 5,
   "metadata": {},
   "outputs": [
    {
     "data": {
      "text/plain": [
       "array([ 1,  2,  3,  4,  5,  6,  7,  8,  9, 10])"
      ]
     },
     "execution_count": 5,
     "metadata": {},
     "output_type": "execute_result"
    }
   ],
   "source": [
    "# Cria um array NumPy para ordenar.\n",
    "shell_sort(np.array([10, 9, 8, 7, 6, 5, 4, 3, 2, 1]))"
   ]
  }
 ],
 "metadata": {
  "kernelspec": {
   "display_name": "Python 3",
   "language": "python",
   "name": "python3"
  },
  "language_info": {
   "codemirror_mode": {
    "name": "ipython",
    "version": 3
   },
   "file_extension": ".py",
   "mimetype": "text/x-python",
   "name": "python",
   "nbconvert_exporter": "python",
   "pygments_lexer": "ipython3",
   "version": "3.9.10"
  }
 },
 "nbformat": 4,
 "nbformat_minor": 2
}
