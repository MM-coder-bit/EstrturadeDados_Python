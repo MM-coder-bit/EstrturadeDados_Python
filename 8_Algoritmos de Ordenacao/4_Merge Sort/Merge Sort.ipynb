{
 "cells": [
  {
   "cell_type": "code",
   "execution_count": 1,
   "metadata": {},
   "outputs": [],
   "source": [
    "import numpy as np"
   ]
  },
  {
   "cell_type": "code",
   "execution_count": 2,
   "metadata": {},
   "outputs": [],
   "source": [
    "# Definição da função merge_sort que ordena um vetor usando o algoritmo Merge Sort.\n",
    "def merge_sort(vetor):\n",
    "    # Verifica se o vetor tem mais de um elemento.\n",
    "    if len(vetor) > 1:\n",
    "        # Divide o vetor ao meio.\n",
    "        divisao = len(vetor) // 2\n",
    "        esquerda = vetor[:divisao].copy()\n",
    "        direita = vetor[divisao:].copy()\n",
    "\n",
    "        # Chama recursivamente merge_sort para as sub-listas esquerda e direita.\n",
    "        merge_sort(esquerda)\n",
    "        merge_sort(direita)\n",
    "\n",
    "        # Inicializa índices para percorrer as sub-listas e o vetor original.\n",
    "        i = j = k = 0\n",
    "\n",
    "        # Combina as sub-listas ordenadas de volta ao vetor original.\n",
    "        while i < len(esquerda) and j < len(direita):\n",
    "            if esquerda[i] < direita[j]:\n",
    "                vetor[k] = esquerda[i]\n",
    "                i += 1\n",
    "            else:\n",
    "                vetor[k] = direita[j]\n",
    "                j += 1\n",
    "            k += 1\n",
    "\n",
    "        # Adiciona os elementos restantes da sub-lista esquerda, se houver.\n",
    "        while i < len(esquerda):\n",
    "            vetor[k] = esquerda[i]\n",
    "            i += 1\n",
    "            k += 1\n",
    "\n",
    "        # Adiciona os elementos restantes da sub-lista direita, se houver.\n",
    "        while j < len(direita):\n",
    "            vetor[k] = direita[j]\n",
    "            j += 1\n",
    "            k += 1\n",
    "\n",
    "    # Retorna o vetor ordenado.\n",
    "    return vetor\n"
   ]
  },
  {
   "cell_type": "code",
   "execution_count": 3,
   "metadata": {},
   "outputs": [
    {
     "data": {
      "text/plain": [
       "array([ 3,  8, 15, 34])"
      ]
     },
     "execution_count": 3,
     "metadata": {},
     "output_type": "execute_result"
    }
   ],
   "source": [
    "# Cria um array NumPy para ordenar.\n",
    "merge_sort(np.array([15, 34, 8, 3]))"
   ]
  },
  {
   "cell_type": "code",
   "execution_count": 4,
   "metadata": {},
   "outputs": [
    {
     "data": {
      "text/plain": [
       "array([ 1,  2,  3,  4,  5,  6,  7,  8,  9, 10])"
      ]
     },
     "execution_count": 4,
     "metadata": {},
     "output_type": "execute_result"
    }
   ],
   "source": [
    "# Cria um array NumPy para ordenar.\n",
    "merge_sort(np.array([10, 9, 8, 7, 6, 5, 4, 3, 2, 1]))"
   ]
  }
 ],
 "metadata": {
  "kernelspec": {
   "display_name": "Python 3",
   "language": "python",
   "name": "python3"
  },
  "language_info": {
   "codemirror_mode": {
    "name": "ipython",
    "version": 3
   },
   "file_extension": ".py",
   "mimetype": "text/x-python",
   "name": "python",
   "nbconvert_exporter": "python",
   "pygments_lexer": "ipython3",
   "version": "3.9.10"
  }
 },
 "nbformat": 4,
 "nbformat_minor": 2
}
