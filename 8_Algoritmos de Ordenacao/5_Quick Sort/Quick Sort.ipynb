{
 "cells": [
  {
   "cell_type": "code",
   "execution_count": 1,
   "metadata": {},
   "outputs": [],
   "source": [
    "import numpy as np"
   ]
  },
  {
   "cell_type": "code",
   "execution_count": 2,
   "metadata": {},
   "outputs": [],
   "source": [
    "# Função particao que retorna a posição do pivo após particionar o vetor.\n",
    "def particao(vetor, inicio, final):\n",
    "    # Escolhe o pivo como o último elemento do vetor.\n",
    "    pivo = vetor[final]\n",
    "    i = inicio - 1\n",
    "\n",
    "    # Loop para percorrer o vetor e particionar os elementos menores e maiores que o pivo.\n",
    "    for j in range(inicio, final):\n",
    "        if vetor[j] <= pivo:\n",
    "            i += 1\n",
    "            # Troca os elementos para movê-los para a parte correta do vetor.\n",
    "            vetor[i], vetor[j] = vetor[j], vetor[i]\n",
    "\n",
    "    # Troca o pivo para a posição correta.\n",
    "    vetor[i + 1], vetor[final] = vetor[final], vetor[i + 1]\n",
    "\n",
    "    # Retorna a posição do pivo após a partição.\n",
    "    return i + 1\n",
    "\n",
    "# Função quick_sort que ordena um vetor usando o algoritmo Quick Sort.\n",
    "def quick_sort(vetor, inicio, final):\n",
    "    if inicio < final:\n",
    "        # Obtém a posição do pivo após a partição.\n",
    "        posicao = particao(vetor, inicio, final)\n",
    "\n",
    "        # Chama recursivamente quick_sort para a parte esquerda do vetor.\n",
    "        quick_sort(vetor, inicio, posicao - 1)\n",
    "\n",
    "        # Chama recursivamente quick_sort para a parte direita do vetor.\n",
    "        quick_sort(vetor, posicao + 1, final)\n",
    "\n",
    "    # Retorna o vetor ordenado.\n",
    "    return vetor\n"
   ]
  },
  {
   "cell_type": "code",
   "execution_count": 3,
   "metadata": {},
   "outputs": [
    {
     "data": {
      "text/plain": [
       "array([ 3,  8, 15, 34])"
      ]
     },
     "execution_count": 3,
     "metadata": {},
     "output_type": "execute_result"
    }
   ],
   "source": [
    "# Cria um array NumPy para ordenar.\n",
    "vetor = np.array([15, 34, 8, 3])\n",
    "\n",
    "# Chama a função quick_sort para ordenar o array.\n",
    "quick_sort(vetor, 0, len(vetor) - 1)"
   ]
  },
  {
   "cell_type": "code",
   "execution_count": 4,
   "metadata": {},
   "outputs": [
    {
     "data": {
      "text/plain": [
       "array([ 1,  2,  3,  4,  5,  6,  7,  8,  9, 10])"
      ]
     },
     "execution_count": 4,
     "metadata": {},
     "output_type": "execute_result"
    }
   ],
   "source": [
    "# Cria um array NumPy para ordenar.\n",
    "vetor = np.array([10, 9, 8, 7, 6, 5, 4, 3, 2, 1])\n",
    "\n",
    "# Chama a função quick_sort para ordenar o array.\n",
    "quick_sort(vetor, 0, len(vetor) - 1)"
   ]
  }
 ],
 "metadata": {
  "kernelspec": {
   "display_name": "Python 3",
   "language": "python",
   "name": "python3"
  },
  "language_info": {
   "codemirror_mode": {
    "name": "ipython",
    "version": 3
   },
   "file_extension": ".py",
   "mimetype": "text/x-python",
   "name": "python",
   "nbconvert_exporter": "python",
   "pygments_lexer": "ipython3",
   "version": "3.9.10"
  }
 },
 "nbformat": 4,
 "nbformat_minor": 2
}
