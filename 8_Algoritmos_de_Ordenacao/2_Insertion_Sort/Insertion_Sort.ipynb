{
 "cells": [
  {
   "cell_type": "code",
   "execution_count": 1,
   "metadata": {},
   "outputs": [],
   "source": [
    "import numpy as np"
   ]
  },
  {
   "cell_type": "code",
   "execution_count": 2,
   "metadata": {},
   "outputs": [],
   "source": [
    "# Definição da função insertion_sort que ordena um vetor usando o algoritmo Insertion Sort.\n",
    "def insertion_sort(vetor):\n",
    "    # Obtém o tamanho do vetor.\n",
    "    n = len(vetor)\n",
    "\n",
    "    # Loop externo: percorre o vetor começando do segundo elemento.\n",
    "    for i in range(1, n):\n",
    "        # Armazena o elemento atual que será movido para a posição correta.\n",
    "        marcado = vetor[i]\n",
    "\n",
    "        # Inicializa o índice j para comparar com o elemento marcado.\n",
    "        j = i - 1\n",
    "\n",
    "        # Loop interno: move os elementos maiores que o marcado para a direita.\n",
    "        while j >= 0 and marcado < vetor[j]:\n",
    "            vetor[j + 1] = vetor[j]\n",
    "            j -= 1\n",
    "\n",
    "        # Coloca o elemento marcado na posição correta.\n",
    "        vetor[j + 1] = marcado\n",
    "\n",
    "    # Retorna o vetor ordenado.\n",
    "    return vetor\n"
   ]
  },
  {
   "cell_type": "code",
   "execution_count": 4,
   "metadata": {},
   "outputs": [
    {
     "data": {
      "text/plain": [
       "array([ 3,  8, 15, 34])"
      ]
     },
     "execution_count": 4,
     "metadata": {},
     "output_type": "execute_result"
    }
   ],
   "source": [
    "# Cria um array NumPy para ordenar.\n",
    "insertion_sort(np.array([15, 34, 8, 3]))"
   ]
  },
  {
   "cell_type": "code",
   "execution_count": 5,
   "metadata": {},
   "outputs": [
    {
     "data": {
      "text/plain": [
       "array([ 1,  2,  3,  4,  5,  6,  7,  8,  9, 10])"
      ]
     },
     "execution_count": 5,
     "metadata": {},
     "output_type": "execute_result"
    }
   ],
   "source": [
    "# Cria um array NumPy para ordenar.\n",
    "insertion_sort(np.array([10, 9, 8, 7, 6, 5, 4, 3, 2, 1]))"
   ]
  }
 ],
 "metadata": {
  "kernelspec": {
   "display_name": "Python 3",
   "language": "python",
   "name": "python3"
  },
  "language_info": {
   "codemirror_mode": {
    "name": "ipython",
    "version": 3
   },
   "file_extension": ".py",
   "mimetype": "text/x-python",
   "name": "python",
   "nbconvert_exporter": "python",
   "pygments_lexer": "ipython3",
   "version": "3.9.10"
  }
 },
 "nbformat": 4,
 "nbformat_minor": 2
}
