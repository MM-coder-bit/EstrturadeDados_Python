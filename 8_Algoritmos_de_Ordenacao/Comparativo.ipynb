{
 "cells": [
  {
   "cell_type": "code",
   "execution_count": 1,
   "metadata": {},
   "outputs": [],
   "source": [
    "# Importa as funções de ordenação de diferentes arquivos\n",
    "\n",
    "from python.Bubble_Sort    import bubble_sort    # Importa a função bubble_sort do módulo Bubble_Sort\n",
    "from python.Selection_Sort import selection_sort # Importa a função selection_sort do módulo Selection_Sort\n",
    "from python.Insertion_Sort import insertion_sort # Importa a função insertion_sort do módulo Insertion_Sort\n",
    "from python.Shell_Sort     import shell_sort     # Importa a função shell_sort do módulo Shell_Sort\n",
    "from python.Merge_Sort     import merge_sort     # Importa a função merge_sort do módulo Merge_Sort\n",
    "from python.Quick_Sort     import quick_sort     # Importa a função quick_sort do módulo Quick_Sort\n",
    "\n",
    "# Importa as bibliotecas necessárias\n",
    "import random  # Biblioteca para geração de números aleatórios\n",
    "import numpy as np  # Biblioteca NumPy para manipulação de arrays\n"
   ]
  },
  {
   "cell_type": "code",
   "execution_count": 2,
   "metadata": {},
   "outputs": [
    {
     "data": {
      "text/plain": [
       "list"
      ]
     },
     "execution_count": 2,
     "metadata": {},
     "output_type": "execute_result"
    }
   ],
   "source": [
    "# Criação de um vetor com 5000 elementos preenchidos com números aleatórios arredondados para 4 casas decimais.\n",
    "vetor = []  # Inicializa um vetor vazio para armazenar os elementos\n",
    "\n",
    "# Preenche o vetor com 5000 números aleatórios entre 0 e 1, arredondados para 4 casas decimais\n",
    "for _ in range(5000):\n",
    "    vetor.append(round(random.random(), 4))\n",
    "\n",
    "type(vetor)"
   ]
  },
  {
   "cell_type": "code",
   "execution_count": 3,
   "metadata": {},
   "outputs": [
    {
     "data": {
      "text/plain": [
       "numpy.ndarray"
      ]
     },
     "execution_count": 3,
     "metadata": {},
     "output_type": "execute_result"
    }
   ],
   "source": [
    "vetor = np.array(vetor) # convertendo para Array\n",
    "type(vetor)"
   ]
  },
  {
   "cell_type": "code",
   "execution_count": 4,
   "metadata": {},
   "outputs": [
    {
     "data": {
      "text/plain": [
       "array([0.2471, 0.9439, 0.0388, 0.121 , 0.732 ])"
      ]
     },
     "execution_count": 4,
     "metadata": {},
     "output_type": "execute_result"
    }
   ],
   "source": [
    "vetor[:5] # verificando se esta correto"
   ]
  },
  {
   "cell_type": "code",
   "execution_count": 5,
   "metadata": {},
   "outputs": [
    {
     "data": {
      "text/plain": [
       "5000"
      ]
     },
     "execution_count": 5,
     "metadata": {},
     "output_type": "execute_result"
    }
   ],
   "source": [
    "len(vetor) # ramanho do Vetor"
   ]
  },
  {
   "cell_type": "markdown",
   "metadata": {},
   "source": [
    "##  Comparando o tempo de execução "
   ]
  },
  {
   "cell_type": "code",
   "execution_count": 6,
   "metadata": {},
   "outputs": [
    {
     "name": "stdout",
     "output_type": "stream",
     "text": [
      "3.02 s ± 103 ms per loop (mean ± std. dev. of 7 runs, 1 loop each)\n"
     ]
    }
   ],
   "source": [
    "# Medição do tempo de execução para o algoritmo de ordenação Bubble Sort aplicado a uma cópia do vetor.\n",
    "%timeit bubble_sort(vetor.copy())\n"
   ]
  },
  {
   "cell_type": "code",
   "execution_count": 7,
   "metadata": {},
   "outputs": [
    {
     "name": "stdout",
     "output_type": "stream",
     "text": [
      "1.59 s ± 44.5 ms per loop (mean ± std. dev. of 7 runs, 1 loop each)\n"
     ]
    }
   ],
   "source": [
    "# Medição do tempo de execução para o algoritmo de ordenação Bubble Sort aplicado a uma cópia do vetor.\n",
    "%timeit selection_sort(vetor.copy())"
   ]
  },
  {
   "cell_type": "code",
   "execution_count": 8,
   "metadata": {},
   "outputs": [
    {
     "name": "stdout",
     "output_type": "stream",
     "text": [
      "1.39 s ± 44.6 ms per loop (mean ± std. dev. of 7 runs, 1 loop each)\n"
     ]
    }
   ],
   "source": [
    "# Medição do tempo de execução para o algoritmo de ordenação Insertion Sort aplicado a uma cópia do vetor.\n",
    "%timeit insertion_sort(vetor.copy())"
   ]
  },
  {
   "cell_type": "code",
   "execution_count": 9,
   "metadata": {},
   "outputs": [
    {
     "name": "stdout",
     "output_type": "stream",
     "text": [
      "25.9 ms ± 951 µs per loop (mean ± std. dev. of 7 runs, 10 loops each)\n"
     ]
    }
   ],
   "source": [
    "# Medição do tempo de execução para o algoritmo de ordenação Shell Sort aplicado a uma cópia do vetor.\n",
    "%timeit shell_sort(vetor.copy())"
   ]
  },
  {
   "cell_type": "code",
   "execution_count": 10,
   "metadata": {},
   "outputs": [
    {
     "name": "stdout",
     "output_type": "stream",
     "text": [
      "25.4 ms ± 1.73 ms per loop (mean ± std. dev. of 7 runs, 10 loops each)\n"
     ]
    }
   ],
   "source": [
    "# Medição do tempo de execução para o algoritmo de ordenação Merge Sort aplicado a uma cópia do vetor.\n",
    "%timeit merge_sort(vetor.copy())"
   ]
  },
  {
   "cell_type": "code",
   "execution_count": 11,
   "metadata": {},
   "outputs": [
    {
     "name": "stdout",
     "output_type": "stream",
     "text": [
      "17.6 ms ± 247 µs per loop (mean ± std. dev. of 7 runs, 10 loops each)\n"
     ]
    }
   ],
   "source": [
    "# Medição do tempo de execução para o algoritmo de ordenação Quick Sort aplicado a uma cópia do vetor.\n",
    "%timeit quick_sort(vetor.copy(), 0, len(vetor) - 1)"
   ]
  },
  {
   "cell_type": "markdown",
   "metadata": {},
   "source": [
    "### Comparativo vetor ordenado e algoritmos de ordenação\n",
    "\n",
    " Realiza uma análise comparativa entre a inserção ordenada e diferentes algoritmos de ordenação,avaliando o tempo de execução para determinar a eficiência em diferentes cenários."
   ]
  },
  {
   "cell_type": "code",
   "execution_count": 12,
   "metadata": {},
   "outputs": [],
   "source": [
    "# Definição de uma classe VetorOrdenado que implementa a inserção ordenada de valores em um vetor.\n",
    "\n",
    "class VetorOrdenado:\n",
    "    def __init__(self, capacidade):\n",
    "        # Inicialização da classe com uma capacidade especificada.\n",
    "        self.capacidade = capacidade\n",
    "        self.ultima_posicao = -1  # Índice da última posição ocupada no vetor.\n",
    "        self.valores = np.empty(self.capacidade, dtype=float)  # Inicialização de um vetor vazio.\n",
    "\n",
    "    def insere(self, valor):\n",
    "        # Método para inserir um valor no vetor de forma ordenada.\n",
    "        \n",
    "        # Verifica se a capacidade máxima foi atingida.\n",
    "        if self.ultima_posicao == self.capacidade - 1:\n",
    "            print('Capacidade atingida')\n",
    "            return\n",
    "        \n",
    "        posicao = 0\n",
    "        \n",
    "        # Itera sobre o vetor para encontrar a posição correta para a inserção ordenada.\n",
    "        for i in range(self.ultima_posicao + 1):\n",
    "            posicao = i\n",
    "            if self.valores[i] > valor:\n",
    "                break\n",
    "            if i == self.ultima_posicao:\n",
    "                posicao = i + 1\n",
    "\n",
    "        # Desloca os elementos maiores para abrir espaço para o novo valor.\n",
    "        x = self.ultima_posicao\n",
    "        while x >= posicao:\n",
    "            self.valores[x + 1] = self.valores[x]\n",
    "            x -= 1\n",
    "        \n",
    "        # Insere o valor na posição correta.\n",
    "        self.valores[posicao] = valor    \n",
    "        self.ultima_posicao += 1\n"
   ]
  },
  {
   "cell_type": "code",
   "execution_count": 13,
   "metadata": {},
   "outputs": [],
   "source": [
    "# Função que utiliza a classe VetorOrdenado para inserir valores ordenadamente em um vetor.\n",
    "\n",
    "def insere_ordenado(valores):\n",
    "    # Cria uma instância da classe VetorOrdenado com base na quantidade de valores.\n",
    "    vetor = VetorOrdenado(len(valores))\n",
    "    \n",
    "    # Itera sobre os valores e insere cada um ordenadamente no vetor.\n",
    "    for i in range(len(valores)):\n",
    "        vetor.insere(i)\n"
   ]
  },
  {
   "cell_type": "code",
   "execution_count": 14,
   "metadata": {},
   "outputs": [
    {
     "name": "stdout",
     "output_type": "stream",
     "text": [
      "1.4 s ± 23.3 ms per loop (mean ± std. dev. of 7 runs, 1 loop each)\n"
     ]
    }
   ],
   "source": [
    "%timeit insere_ordenado(vetor.copy())"
   ]
  }
 ],
 "metadata": {
  "kernelspec": {
   "display_name": "Python 3",
   "language": "python",
   "name": "python3"
  },
  "language_info": {
   "codemirror_mode": {
    "name": "ipython",
    "version": 3
   },
   "file_extension": ".py",
   "mimetype": "text/x-python",
   "name": "python",
   "nbconvert_exporter": "python",
   "pygments_lexer": "ipython3",
   "version": "3.9.10"
  }
 },
 "nbformat": 4,
 "nbformat_minor": 2
}
