{
 "cells": [
  {
   "cell_type": "code",
   "execution_count": 21,
   "metadata": {},
   "outputs": [],
   "source": [
    "# Importa as funções de ordenação de diferentes arquivos\n",
    "\n",
    "from python.Bubble_Sort    import bubble_sort    # Importa a função bubble_sort do módulo Bubble_Sort\n",
    "from python.Selection_Sort import selection_sort # Importa a função selection_sort do módulo Selection_Sort\n",
    "from python.Insertion_Sort import insertion_sort # Importa a função insertion_sort do módulo Insertion_Sort\n",
    "from python.Shell_Sort     import shell_sort     # Importa a função shell_sort do módulo Shell_Sort\n",
    "from python.Merge_Sort     import merge_sort     # Importa a função merge_sort do módulo Merge_Sort\n",
    "from python.Quick_Sort     import quick_sort     # Importa a função quick_sort do módulo Quick_Sort\n",
    "\n",
    "# Importa as bibliotecas necessárias\n",
    "import random  # Biblioteca para geração de números aleatórios\n",
    "import numpy as np  # Biblioteca NumPy para manipulação de arrays\n"
   ]
  },
  {
   "cell_type": "code",
   "execution_count": 22,
   "metadata": {},
   "outputs": [],
   "source": [
    "vetor = []\n",
    "for _ in range(5000):\n",
    "  vetor.append(round(random.random(), 4))"
   ]
  },
  {
   "cell_type": "code",
   "execution_count": 23,
   "metadata": {},
   "outputs": [
    {
     "data": {
      "text/plain": [
       "list"
      ]
     },
     "execution_count": 23,
     "metadata": {},
     "output_type": "execute_result"
    }
   ],
   "source": [
    "type(vetor)"
   ]
  },
  {
   "cell_type": "code",
   "execution_count": 24,
   "metadata": {},
   "outputs": [
    {
     "data": {
      "text/plain": [
       "numpy.ndarray"
      ]
     },
     "execution_count": 24,
     "metadata": {},
     "output_type": "execute_result"
    }
   ],
   "source": [
    "vetor = np.array(vetor)\n",
    "type(vetor)"
   ]
  },
  {
   "cell_type": "code",
   "execution_count": 25,
   "metadata": {},
   "outputs": [
    {
     "data": {
      "text/plain": [
       "array([0.4391, 0.7508, 0.0575, 0.2835, 0.7299])"
      ]
     },
     "execution_count": 25,
     "metadata": {},
     "output_type": "execute_result"
    }
   ],
   "source": [
    "vetor[:5]"
   ]
  },
  {
   "cell_type": "code",
   "execution_count": 26,
   "metadata": {},
   "outputs": [
    {
     "data": {
      "text/plain": [
       "5000"
      ]
     },
     "execution_count": 26,
     "metadata": {},
     "output_type": "execute_result"
    }
   ],
   "source": [
    "len(vetor)"
   ]
  },
  {
   "cell_type": "markdown",
   "metadata": {},
   "source": [
    "##  Comparando o tempo de execução "
   ]
  }
 ],
 "metadata": {
  "kernelspec": {
   "display_name": "Python 3",
   "language": "python",
   "name": "python3"
  },
  "language_info": {
   "codemirror_mode": {
    "name": "ipython",
    "version": 3
   },
   "file_extension": ".py",
   "mimetype": "text/x-python",
   "name": "python",
   "nbconvert_exporter": "python",
   "pygments_lexer": "ipython3",
   "version": "3.9.10"
  }
 },
 "nbformat": 4,
 "nbformat_minor": 2
}
